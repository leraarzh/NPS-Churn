{
 "cells": [
  {
   "cell_type": "markdown",
   "id": "5dd6db01",
   "metadata": {},
   "source": [
    "**Исследование индекса потребительской лояльности (NPS) в секторе финансовых сервисов в Великобритании, США и Мексике в 2021 году**"
   ]
  },
  {
   "cell_type": "markdown",
   "id": "71d33cbc",
   "metadata": {},
   "source": [
    "Импортируем датафрейм Net Promoter Score (NPS) for financial services и загружаем необходимые библиотеки для анализа данных"
   ]
  },
  {
   "cell_type": "code",
   "execution_count": 1,
   "id": "5998fa53",
   "metadata": {},
   "outputs": [
    {
     "data": {
      "text/html": [
       "<div>\n",
       "<style scoped>\n",
       "    .dataframe tbody tr th:only-of-type {\n",
       "        vertical-align: middle;\n",
       "    }\n",
       "\n",
       "    .dataframe tbody tr th {\n",
       "        vertical-align: top;\n",
       "    }\n",
       "\n",
       "    .dataframe thead th {\n",
       "        text-align: right;\n",
       "    }\n",
       "</style>\n",
       "<table border=\"1\" class=\"dataframe\">\n",
       "  <thead>\n",
       "    <tr style=\"text-align: right;\">\n",
       "      <th></th>\n",
       "      <th>ID</th>\n",
       "      <th>Market</th>\n",
       "      <th>Survey date</th>\n",
       "      <th>Customer Name</th>\n",
       "      <th>Month</th>\n",
       "      <th>Quarter</th>\n",
       "      <th>NPS</th>\n",
       "    </tr>\n",
       "  </thead>\n",
       "  <tbody>\n",
       "    <tr>\n",
       "      <th>0</th>\n",
       "      <td>1000</td>\n",
       "      <td>US</td>\n",
       "      <td>01/09/2021</td>\n",
       "      <td>Krista Richards</td>\n",
       "      <td>9</td>\n",
       "      <td>3</td>\n",
       "      <td>10</td>\n",
       "    </tr>\n",
       "    <tr>\n",
       "      <th>1</th>\n",
       "      <td>1001</td>\n",
       "      <td>MEX</td>\n",
       "      <td>07/11/2021</td>\n",
       "      <td>Monica King</td>\n",
       "      <td>11</td>\n",
       "      <td>4</td>\n",
       "      <td>9</td>\n",
       "    </tr>\n",
       "    <tr>\n",
       "      <th>2</th>\n",
       "      <td>1002</td>\n",
       "      <td>UK</td>\n",
       "      <td>25/12/2021</td>\n",
       "      <td>Ricky Armstrong</td>\n",
       "      <td>12</td>\n",
       "      <td>4</td>\n",
       "      <td>0</td>\n",
       "    </tr>\n",
       "    <tr>\n",
       "      <th>3</th>\n",
       "      <td>1003</td>\n",
       "      <td>UK</td>\n",
       "      <td>01/10/2021</td>\n",
       "      <td>Andrea Foley</td>\n",
       "      <td>10</td>\n",
       "      <td>4</td>\n",
       "      <td>10</td>\n",
       "    </tr>\n",
       "    <tr>\n",
       "      <th>4</th>\n",
       "      <td>1004</td>\n",
       "      <td>UK</td>\n",
       "      <td>01/03/2021</td>\n",
       "      <td>Jerry Garcia</td>\n",
       "      <td>3</td>\n",
       "      <td>1</td>\n",
       "      <td>8</td>\n",
       "    </tr>\n",
       "    <tr>\n",
       "      <th>...</th>\n",
       "      <td>...</td>\n",
       "      <td>...</td>\n",
       "      <td>...</td>\n",
       "      <td>...</td>\n",
       "      <td>...</td>\n",
       "      <td>...</td>\n",
       "      <td>...</td>\n",
       "    </tr>\n",
       "    <tr>\n",
       "      <th>4995</th>\n",
       "      <td>5995</td>\n",
       "      <td>MEX</td>\n",
       "      <td>02/07/2021</td>\n",
       "      <td>Deborah Peterson</td>\n",
       "      <td>7</td>\n",
       "      <td>3</td>\n",
       "      <td>7</td>\n",
       "    </tr>\n",
       "    <tr>\n",
       "      <th>4996</th>\n",
       "      <td>5996</td>\n",
       "      <td>MEX</td>\n",
       "      <td>17/03/2021</td>\n",
       "      <td>Jordan Smith</td>\n",
       "      <td>3</td>\n",
       "      <td>1</td>\n",
       "      <td>10</td>\n",
       "    </tr>\n",
       "    <tr>\n",
       "      <th>4997</th>\n",
       "      <td>5997</td>\n",
       "      <td>UK</td>\n",
       "      <td>07/01/2021</td>\n",
       "      <td>Carly Scott</td>\n",
       "      <td>1</td>\n",
       "      <td>1</td>\n",
       "      <td>8</td>\n",
       "    </tr>\n",
       "    <tr>\n",
       "      <th>4998</th>\n",
       "      <td>5998</td>\n",
       "      <td>UK</td>\n",
       "      <td>14/10/2021</td>\n",
       "      <td>Eugene Burke</td>\n",
       "      <td>10</td>\n",
       "      <td>4</td>\n",
       "      <td>8</td>\n",
       "    </tr>\n",
       "    <tr>\n",
       "      <th>4999</th>\n",
       "      <td>5999</td>\n",
       "      <td>MEX</td>\n",
       "      <td>17/12/2021</td>\n",
       "      <td>Edwin Zavala</td>\n",
       "      <td>12</td>\n",
       "      <td>4</td>\n",
       "      <td>9</td>\n",
       "    </tr>\n",
       "  </tbody>\n",
       "</table>\n",
       "<p>5000 rows × 7 columns</p>\n",
       "</div>"
      ],
      "text/plain": [
       "        ID Market Survey date     Customer Name  Month  Quarter  NPS\n",
       "0     1000     US  01/09/2021   Krista Richards      9        3   10\n",
       "1     1001    MEX  07/11/2021       Monica King     11        4    9\n",
       "2     1002     UK  25/12/2021   Ricky Armstrong     12        4    0\n",
       "3     1003     UK  01/10/2021      Andrea Foley     10        4   10\n",
       "4     1004     UK  01/03/2021      Jerry Garcia      3        1    8\n",
       "...    ...    ...         ...               ...    ...      ...  ...\n",
       "4995  5995    MEX  02/07/2021  Deborah Peterson      7        3    7\n",
       "4996  5996    MEX  17/03/2021      Jordan Smith      3        1   10\n",
       "4997  5997     UK  07/01/2021       Carly Scott      1        1    8\n",
       "4998  5998     UK  14/10/2021      Eugene Burke     10        4    8\n",
       "4999  5999    MEX  17/12/2021      Edwin Zavala     12        4    9\n",
       "\n",
       "[5000 rows x 7 columns]"
      ]
     },
     "execution_count": 1,
     "metadata": {},
     "output_type": "execute_result"
    }
   ],
   "source": [
    "import pandas as pd\n",
    "import numpy as np\n",
    "import matplotlib.pyplot as plt\n",
    "\n",
    "nps = pd.read_csv('NPStimeseries.csv')\n",
    "nps"
   ]
  },
  {
   "cell_type": "markdown",
   "id": "3a742f9e",
   "metadata": {},
   "source": [
    "**Определяем задачи исследования:**  \n",
    "    - определить меры центральной тенденции по NPS в странах, принимавших участие в исследовании;  \n",
    "    - исследовать динамику и тенденции изменения показателя в рассматриваемых странах;  \n",
    "    - выявить общие закономерности изменения NPS;  \n",
    "    - составить рекомендации для проведения дальнейших исследований с целью выявления факторов, влияющих на динамику данного показателя  "
   ]
  },
  {
   "cell_type": "code",
   "execution_count": 2,
   "id": "b84dbdc1",
   "metadata": {},
   "outputs": [
    {
     "name": "stdout",
     "output_type": "stream",
     "text": [
      "<class 'pandas.core.frame.DataFrame'>\n",
      "RangeIndex: 5000 entries, 0 to 4999\n",
      "Data columns (total 7 columns):\n",
      " #   Column         Non-Null Count  Dtype \n",
      "---  ------         --------------  ----- \n",
      " 0   ID             5000 non-null   int64 \n",
      " 1   Market         5000 non-null   object\n",
      " 2   Survey date    5000 non-null   object\n",
      " 3   Customer Name  5000 non-null   object\n",
      " 4   Month          5000 non-null   int64 \n",
      " 5   Quarter        5000 non-null   int64 \n",
      " 6   NPS            5000 non-null   int64 \n",
      "dtypes: int64(4), object(3)\n",
      "memory usage: 273.6+ KB\n"
     ]
    }
   ],
   "source": [
    "nps.info()"
   ]
  },
  {
   "cell_type": "markdown",
   "id": "d7d4ac64",
   "metadata": {},
   "source": [
    "В данном датафрейме всего 5000 строк, отсутствуют пропущенные значения. Числовые переменные имеют тип данных int64. В связи с этим работы по исключению пропущенных значений и перекодированием типовы данных в исследовании проводиться не будут. "
   ]
  },
  {
   "cell_type": "code",
   "execution_count": 3,
   "id": "92cf1fda",
   "metadata": {},
   "outputs": [
    {
     "data": {
      "text/plain": [
       "count    5000.00000\n",
       "mean        6.84120\n",
       "std         3.49228\n",
       "min         0.00000\n",
       "25%         5.00000\n",
       "50%         8.00000\n",
       "75%        10.00000\n",
       "max        10.00000\n",
       "Name: NPS, dtype: float64"
      ]
     },
     "execution_count": 3,
     "metadata": {},
     "output_type": "execute_result"
    }
   ],
   "source": [
    "nps['NPS'].describe()"
   ]
  },
  {
   "cell_type": "markdown",
   "id": "aa8bb9d1",
   "metadata": {},
   "source": [
    "**Методом describe по значениям переменной NPS выявлено:**  \n",
    "    - средний показатель NPS по всем странам равен 6.84 из 10 возможных;  \n",
    "    - среднеквадратичное отклонение по всем странам составляет 3.49;  \n",
    "    - в датафрейме есть как минимальные оценки (0), так и максимальные (10) возможные в рамках формирования NPS.  \n",
    " В данном случае 0 нельзя считать аномальным значением выборки, поскольку является оценкой респондентов, то есть частью наших данных. В связи с этим работы по исключению выбросов в данном исследовании проводиться не будут. "
   ]
  },
  {
   "cell_type": "code",
   "execution_count": 4,
   "id": "5925da63",
   "metadata": {},
   "outputs": [
    {
     "data": {
      "text/plain": [
       "UK     1720\n",
       "MEX    1649\n",
       "US     1631\n",
       "Name: Market, dtype: int64"
      ]
     },
     "execution_count": 4,
     "metadata": {},
     "output_type": "execute_result"
    }
   ],
   "source": [
    "nps['Market'].value_counts()"
   ]
  },
  {
   "cell_type": "markdown",
   "id": "f4e4ef59",
   "metadata": {},
   "source": [
    "Всего в исследовании приняло участие 3 государства - Великобритания, США и Мексика.  \n",
    "Данные содержат 1720 оценок финансовых услуг для Великобритации (наибольшее количество наблюдений),\n",
    "1649 оценок для Мексики и 1631 оценку для США."
   ]
  },
  {
   "cell_type": "code",
   "execution_count": 5,
   "id": "84e3ac09",
   "metadata": {},
   "outputs": [
    {
     "data": {
      "text/plain": [
       "Market  NPS\n",
       "MEX     10     504\n",
       "        9      287\n",
       "        8      255\n",
       "        0      214\n",
       "        7       94\n",
       "        5       89\n",
       "        6       52\n",
       "        1       47\n",
       "        3       37\n",
       "        2       36\n",
       "        4       34\n",
       "UK      10     544\n",
       "        8      263\n",
       "        9      211\n",
       "        5      149\n",
       "        0      132\n",
       "        6       99\n",
       "        7       93\n",
       "        3       69\n",
       "        2       68\n",
       "        4       51\n",
       "        1       41\n",
       "US      10     549\n",
       "        0      219\n",
       "        9      214\n",
       "        8      162\n",
       "        7      105\n",
       "        1       84\n",
       "        5       83\n",
       "        3       75\n",
       "        6       55\n",
       "        2       50\n",
       "        4       35\n",
       "Name: NPS, dtype: int64"
      ]
     },
     "execution_count": 5,
     "metadata": {},
     "output_type": "execute_result"
    }
   ],
   "source": [
    "nps.groupby('Market')['NPS'].value_counts()"
   ]
  },
  {
   "cell_type": "code",
   "execution_count": 6,
   "id": "60002c91",
   "metadata": {},
   "outputs": [
    {
     "data": {
      "text/plain": [
       "Market\n",
       "MEX    6.939964\n",
       "UK     6.988953\n",
       "US     6.585530\n",
       "Name: NPS, dtype: float64"
      ]
     },
     "execution_count": 6,
     "metadata": {},
     "output_type": "execute_result"
    }
   ],
   "source": [
    "nps.groupby('Market')['NPS'].mean()"
   ]
  },
  {
   "cell_type": "code",
   "execution_count": 7,
   "id": "395e9a60",
   "metadata": {},
   "outputs": [
    {
     "data": {
      "text/plain": [
       "Market\n",
       "MEX    8.0\n",
       "UK     8.0\n",
       "US     8.0\n",
       "Name: NPS, dtype: float64"
      ]
     },
     "execution_count": 7,
     "metadata": {},
     "output_type": "execute_result"
    }
   ],
   "source": [
    "nps.groupby('Market')['NPS'].median()"
   ]
  },
  {
   "cell_type": "code",
   "execution_count": 8,
   "id": "d0bb410d",
   "metadata": {},
   "outputs": [
    {
     "data": {
      "text/html": [
       "<div>\n",
       "<style scoped>\n",
       "    .dataframe tbody tr th:only-of-type {\n",
       "        vertical-align: middle;\n",
       "    }\n",
       "\n",
       "    .dataframe tbody tr th {\n",
       "        vertical-align: top;\n",
       "    }\n",
       "\n",
       "    .dataframe thead th {\n",
       "        text-align: right;\n",
       "    }\n",
       "</style>\n",
       "<table border=\"1\" class=\"dataframe\">\n",
       "  <thead>\n",
       "    <tr style=\"text-align: right;\">\n",
       "      <th></th>\n",
       "      <th>mean</th>\n",
       "      <th>median</th>\n",
       "    </tr>\n",
       "    <tr>\n",
       "      <th>Market</th>\n",
       "      <th></th>\n",
       "      <th></th>\n",
       "    </tr>\n",
       "  </thead>\n",
       "  <tbody>\n",
       "    <tr>\n",
       "      <th>MEX</th>\n",
       "      <td>6.939964</td>\n",
       "      <td>8.0</td>\n",
       "    </tr>\n",
       "    <tr>\n",
       "      <th>UK</th>\n",
       "      <td>6.988953</td>\n",
       "      <td>8.0</td>\n",
       "    </tr>\n",
       "    <tr>\n",
       "      <th>US</th>\n",
       "      <td>6.585530</td>\n",
       "      <td>8.0</td>\n",
       "    </tr>\n",
       "  </tbody>\n",
       "</table>\n",
       "</div>"
      ],
      "text/plain": [
       "            mean  median\n",
       "Market                  \n",
       "MEX     6.939964     8.0\n",
       "UK      6.988953     8.0\n",
       "US      6.585530     8.0"
      ]
     },
     "execution_count": 8,
     "metadata": {},
     "output_type": "execute_result"
    }
   ],
   "source": [
    "nps.groupby('Market')['NPS'].agg(['mean', 'median'])"
   ]
  },
  {
   "cell_type": "markdown",
   "id": "faf838e1",
   "metadata": {},
   "source": [
    "**Методами mean и median по значениям переменных Market и NPS выявлено:**  \n",
    "    - среднее значение NPS финансовых услуг в Великобритании равно 6.99 (самый высокий показатель среди стран, принявших участие);  \n",
    "    - среднее значение NPS финансовых услуг в Мексике равно 6.93;  \n",
    "    - среднее значение NPS финансовых услуг в США равно 6.56 (самый низкий показатель);  \n",
    "    - медианное значение NPS финаносвых услуг для всех стран одинаковое - 8.  \n",
    "    \n",
    "Также при группировке данных NPS по странам мы видим, что бОльшая часть оценок варьируется между 8, 9, и 10, \n",
    "однако в пятерке самых популярных оценок во всех странах также располагается 0, что значительно влияет на разницу между средним значением NPS по группе и медианным."
   ]
  },
  {
   "cell_type": "markdown",
   "id": "91f550f2",
   "metadata": {},
   "source": [
    "Сохраняем значения NPS по каждому рынку в отдельные переменные для дальнейшей работы:"
   ]
  },
  {
   "cell_type": "code",
   "execution_count": 9,
   "id": "8857b197",
   "metadata": {},
   "outputs": [],
   "source": [
    "nps_us = nps[nps['Market'] =='US']\n",
    "nps_uk = nps[nps['Market'] =='UK']\n",
    "nps_mex = nps[nps['Market'] =='MEX']"
   ]
  },
  {
   "cell_type": "markdown",
   "id": "cd5d20e6",
   "metadata": {},
   "source": [
    "Группируем данные NPS помесячно и поквартально по среднему значению индекса:"
   ]
  },
  {
   "cell_type": "code",
   "execution_count": 10,
   "id": "c93ba200",
   "metadata": {},
   "outputs": [],
   "source": [
    "nps_mean_month = nps.groupby(['Market', 'Month'])['NPS'].mean()\n",
    "nps_mean_q = nps.groupby(['Market', 'Quarter'])['NPS'].mean()"
   ]
  },
  {
   "cell_type": "markdown",
   "id": "ff57bfe0",
   "metadata": {},
   "source": [
    "Рассмотрим динамику NPS в исследуемых странах на линейных графиках по месяцам и по кварталам"
   ]
  },
  {
   "cell_type": "code",
   "execution_count": 11,
   "id": "4396597a",
   "metadata": {},
   "outputs": [
    {
     "data": {
      "image/png": "[encoded data removed]",
      "text/plain": [
       "<Figure size 576x864 with 3 Axes>"
      ]
     },
     "metadata": {
      "needs_background": "light"
     },
     "output_type": "display_data"
    }
   ],
   "source": [
    "fig, ax = plt.subplots(3,1, figsize=(8,12))\n",
    "ax[0].plot(nps_mean_month.loc['UK'], c='blue')\n",
    "ax[1].plot(nps_mean_month.loc['US'], c='red')\n",
    "ax[2].plot(nps_mean_month.loc['MEX'], c='green')\n",
    "\n",
    "for axis in ax.ravel():\n",
    "    axis.set_ylim(5.5,8)\n",
    "    axis.set_xlabel('Месяц')\n",
    "    axis.set_ylabel('NPS')\n",
    "    axis.axhline(6.84, c='grey', lw=0.6, ls=':')\n",
    "    axis.spines['right'].set_visible(False)\n",
    "    axis.spines['top'].set_visible(False)\n",
    "    ax[0].legend(['UK', 'Среднее значение'], frameon=False)\n",
    "    ax[1].legend(['US', 'Среднее значение'], frameon=False)\n",
    "    ax[2].legend(['MEX', 'Среднее значение'], frameon=False)\n",
    "    fig.suptitle('Динамика изменения NPS по месяцам в 2021 году', fontsize=15)"
   ]
  },
  {
   "cell_type": "code",
   "execution_count": 12,
   "id": "796c91b2",
   "metadata": {},
   "outputs": [
    {
     "data": {
      "image/png": "[encoded data removed]",
      "text/plain": [
       "<Figure size 576x864 with 3 Axes>"
      ]
     },
     "metadata": {
      "needs_background": "light"
     },
     "output_type": "display_data"
    }
   ],
   "source": [
    "fig, ax = plt.subplots(3,1, figsize=(8,12))\n",
    "ax[0].plot(nps_mean_q.loc['UK'], c='blue')\n",
    "ax[1].plot(nps_mean_q.loc['US'], c='red')\n",
    "ax[2].plot(nps_mean_q.loc['MEX'], c='green')\n",
    "\n",
    "for axis in ax.ravel():\n",
    "    axis.set_ylim(5.5,8)\n",
    "    axis.set_xlabel('Квартал')\n",
    "    axis.set_ylabel('NPS')\n",
    "    axis.axhline(6.84, c='grey', lw=0.6, ls=':')\n",
    "    axis.spines['right'].set_visible(False)\n",
    "    axis.spines['top'].set_visible(False)\n",
    "    ax[0].legend(['UK', 'Среднее значение'], frameon=False)\n",
    "    ax[1].legend(['US', 'Среднее значение'], frameon=False)\n",
    "    ax[2].legend(['MEX', 'Среднее значение'], frameon=False)\n",
    "    fig.suptitle('Динамика изменения NPS по кварталам в 2021 году', fontsize=15)"
   ]
  },
  {
   "cell_type": "markdown",
   "id": "ef019ebb",
   "metadata": {},
   "source": [
    "**При помощи визуализации данных о средних значениях NPS по странам в разрезе месяцев и кварталов было выявлено:** общая тенденция изменения NPS финансовых услуг по году в рассматриваемых странах отсутствует.\n",
    "Есть некоторые сходства графиков NPS Великобритании и Мексики в первом и последнем квартале, однако помесячная динамика в странах разнится."
   ]
  },
  {
   "cell_type": "markdown",
   "id": "ff4584cd",
   "metadata": {},
   "source": [
    "Исследуем корреляцию NPS с месяцами и кварталами"
   ]
  },
  {
   "cell_type": "code",
   "execution_count": 13,
   "id": "4403b15a",
   "metadata": {},
   "outputs": [
    {
     "data": {
      "text/plain": [
       "-0.021878937878548697"
      ]
     },
     "execution_count": 13,
     "metadata": {},
     "output_type": "execute_result"
    }
   ],
   "source": [
    "nps['Month'].corr(nps['NPS'])"
   ]
  },
  {
   "cell_type": "code",
   "execution_count": 14,
   "id": "eb84c503",
   "metadata": {},
   "outputs": [
    {
     "data": {
      "text/plain": [
       "-0.02437967200276343"
      ]
     },
     "execution_count": 14,
     "metadata": {},
     "output_type": "execute_result"
    }
   ],
   "source": [
    "nps['Quarter'].corr(nps['NPS'])"
   ]
  },
  {
   "cell_type": "code",
   "execution_count": 15,
   "id": "e90b6b1d",
   "metadata": {},
   "outputs": [
    {
     "data": {
      "text/plain": [
       "-0.031292179567016576"
      ]
     },
     "execution_count": 15,
     "metadata": {},
     "output_type": "execute_result"
    }
   ],
   "source": [
    "nps_uk['Month'].corr(nps['NPS'])"
   ]
  },
  {
   "cell_type": "code",
   "execution_count": 16,
   "id": "9069ac7e",
   "metadata": {},
   "outputs": [
    {
     "data": {
      "text/plain": [
       "-0.05093968615112912"
      ]
     },
     "execution_count": 16,
     "metadata": {},
     "output_type": "execute_result"
    }
   ],
   "source": [
    "nps_us['Month'].corr(nps['NPS'])"
   ]
  },
  {
   "cell_type": "code",
   "execution_count": 17,
   "id": "d68fbe68",
   "metadata": {},
   "outputs": [
    {
     "data": {
      "text/plain": [
       "0.016812408121210907"
      ]
     },
     "execution_count": 17,
     "metadata": {},
     "output_type": "execute_result"
    }
   ],
   "source": [
    "nps_mex['Month'].corr(nps['NPS'])"
   ]
  },
  {
   "cell_type": "markdown",
   "id": "e65bd7c0",
   "metadata": {},
   "source": [
    "**Методом корреляции было выявлено:**\n",
    "показатель NPS не коррелирует с месяцами и кварталами.   "
   ]
  },
  {
   "cell_type": "code",
   "execution_count": 18,
   "id": "3601ba7c",
   "metadata": {},
   "outputs": [
    {
     "data": {
      "text/plain": [
       "Month\n",
       "1     7.037209\n",
       "2     6.713568\n",
       "3     7.190594\n",
       "4     6.698210\n",
       "5     7.034014\n",
       "6     6.768080\n",
       "7     6.862579\n",
       "8     6.813953\n",
       "9     6.721429\n",
       "10    6.664141\n",
       "11    6.682692\n",
       "12    6.875000\n",
       "Name: NPS, dtype: float64"
      ]
     },
     "execution_count": 18,
     "metadata": {},
     "output_type": "execute_result"
    }
   ],
   "source": [
    "month_nps = nps.groupby(nps['Month'])['NPS'].mean()\n",
    "month_nps"
   ]
  },
  {
   "cell_type": "markdown",
   "id": "a6c34498",
   "metadata": {},
   "source": [
    "NPS является показателем, который оценивает, насколько потребители готовы рекомендовать продукт/бренд. Для этого респондентов просят ответить на вопрос \"Какова вероятность того, что Вы порекомендуете компанию/товар/бренд своим друзьям/знакомым/коллегам?\", на который собираются ответы по шкале от 0 до 10. На основе полученных оценок все потребители разделяются на 3 группы: 9-10 баллов — сторонники (promoters) товара/бренда, 7-8 баллов — нейтральные потребители (passives), 0-6 баллов — критики (detractors). Присвоим нашим данным категориальную переменную Promoter Category на основе стандартного распределения по шкале NPS."
   ]
  },
  {
   "cell_type": "code",
   "execution_count": 19,
   "id": "1a3fd50f",
   "metadata": {},
   "outputs": [
    {
     "data": {
      "text/html": [
       "<div>\n",
       "<style scoped>\n",
       "    .dataframe tbody tr th:only-of-type {\n",
       "        vertical-align: middle;\n",
       "    }\n",
       "\n",
       "    .dataframe tbody tr th {\n",
       "        vertical-align: top;\n",
       "    }\n",
       "\n",
       "    .dataframe thead th {\n",
       "        text-align: right;\n",
       "    }\n",
       "</style>\n",
       "<table border=\"1\" class=\"dataframe\">\n",
       "  <thead>\n",
       "    <tr style=\"text-align: right;\">\n",
       "      <th></th>\n",
       "      <th>ID</th>\n",
       "      <th>Market</th>\n",
       "      <th>Survey date</th>\n",
       "      <th>Customer Name</th>\n",
       "      <th>Month</th>\n",
       "      <th>Quarter</th>\n",
       "      <th>NPS</th>\n",
       "      <th>Promoter Category</th>\n",
       "    </tr>\n",
       "  </thead>\n",
       "  <tbody>\n",
       "    <tr>\n",
       "      <th>0</th>\n",
       "      <td>1000</td>\n",
       "      <td>US</td>\n",
       "      <td>01/09/2021</td>\n",
       "      <td>Krista Richards</td>\n",
       "      <td>9</td>\n",
       "      <td>3</td>\n",
       "      <td>10</td>\n",
       "      <td>Promoter</td>\n",
       "    </tr>\n",
       "    <tr>\n",
       "      <th>1</th>\n",
       "      <td>1001</td>\n",
       "      <td>MEX</td>\n",
       "      <td>07/11/2021</td>\n",
       "      <td>Monica King</td>\n",
       "      <td>11</td>\n",
       "      <td>4</td>\n",
       "      <td>9</td>\n",
       "      <td>Promoter</td>\n",
       "    </tr>\n",
       "    <tr>\n",
       "      <th>2</th>\n",
       "      <td>1002</td>\n",
       "      <td>UK</td>\n",
       "      <td>25/12/2021</td>\n",
       "      <td>Ricky Armstrong</td>\n",
       "      <td>12</td>\n",
       "      <td>4</td>\n",
       "      <td>0</td>\n",
       "      <td>Detractor</td>\n",
       "    </tr>\n",
       "    <tr>\n",
       "      <th>3</th>\n",
       "      <td>1003</td>\n",
       "      <td>UK</td>\n",
       "      <td>01/10/2021</td>\n",
       "      <td>Andrea Foley</td>\n",
       "      <td>10</td>\n",
       "      <td>4</td>\n",
       "      <td>10</td>\n",
       "      <td>Promoter</td>\n",
       "    </tr>\n",
       "    <tr>\n",
       "      <th>4</th>\n",
       "      <td>1004</td>\n",
       "      <td>UK</td>\n",
       "      <td>01/03/2021</td>\n",
       "      <td>Jerry Garcia</td>\n",
       "      <td>3</td>\n",
       "      <td>1</td>\n",
       "      <td>8</td>\n",
       "      <td>Passive</td>\n",
       "    </tr>\n",
       "  </tbody>\n",
       "</table>\n",
       "</div>"
      ],
      "text/plain": [
       "     ID Market Survey date    Customer Name  Month  Quarter  NPS  \\\n",
       "0  1000     US  01/09/2021  Krista Richards      9        3   10   \n",
       "1  1001    MEX  07/11/2021      Monica King     11        4    9   \n",
       "2  1002     UK  25/12/2021  Ricky Armstrong     12        4    0   \n",
       "3  1003     UK  01/10/2021     Andrea Foley     10        4   10   \n",
       "4  1004     UK  01/03/2021     Jerry Garcia      3        1    8   \n",
       "\n",
       "  Promoter Category  \n",
       "0          Promoter  \n",
       "1          Promoter  \n",
       "2         Detractor  \n",
       "3          Promoter  \n",
       "4           Passive  "
      ]
     },
     "execution_count": 19,
     "metadata": {},
     "output_type": "execute_result"
    }
   ],
   "source": [
    "def get_nps_cat(nps):\n",
    "    if nps <= 6:\n",
    "        return 'Detractor'\n",
    "    elif nps == 7:\n",
    "        return 'Passive'\n",
    "    elif nps == 8:\n",
    "        return 'Passive'\n",
    "    elif nps >= 9:\n",
    "        return 'Promoter'\n",
    "    else: \n",
    "        return nps\n",
    "\n",
    "nps['Promoter Category'] = nps['NPS'].apply(get_nps_cat)\n",
    "nps.head()"
   ]
  },
  {
   "cell_type": "code",
   "execution_count": 20,
   "id": "850ab95e",
   "metadata": {},
   "outputs": [
    {
     "data": {
      "text/plain": [
       "Promoter Category  NPS\n",
       "Detractor          0       565\n",
       "                   5       321\n",
       "                   6       206\n",
       "                   3       181\n",
       "                   1       172\n",
       "                   2       154\n",
       "                   4       120\n",
       "Passive            8       680\n",
       "                   7       292\n",
       "Promoter           10     1597\n",
       "                   9       712\n",
       "Name: NPS, dtype: int64"
      ]
     },
     "execution_count": 20,
     "metadata": {},
     "output_type": "execute_result"
    }
   ],
   "source": [
    "nps.groupby(['Promoter Category'])['NPS'].value_counts()"
   ]
  },
  {
   "cell_type": "code",
   "execution_count": 21,
   "id": "7576ba80",
   "metadata": {},
   "outputs": [
    {
     "data": {
      "text/plain": [
       "Promoter Category\n",
       "Detractor     4344\n",
       "Passive       7484\n",
       "Promoter     22378\n",
       "Name: NPS, dtype: int64"
      ]
     },
     "execution_count": 21,
     "metadata": {},
     "output_type": "execute_result"
    }
   ],
   "source": [
    "nps.groupby(['Promoter Category'])['NPS'].sum()"
   ]
  },
  {
   "cell_type": "code",
   "execution_count": 22,
   "id": "1143cfd8",
   "metadata": {},
   "outputs": [
    {
     "data": {
      "text/plain": [
       "<AxesSubplot:xlabel='Market'>"
      ]
     },
     "execution_count": 22,
     "metadata": {},
     "output_type": "execute_result"
    },
    {
     "data": {
      "image/png": "[encoded data removed]",
      "text/plain": [
       "<Figure size 432x288 with 1 Axes>"
      ]
     },
     "metadata": {
      "needs_background": "light"
     },
     "output_type": "display_data"
    }
   ],
   "source": [
    "nps.groupby('Market')['Promoter Category'].value_counts().unstack().plot(kind='bar', stacked=True)"
   ]
  },
  {
   "cell_type": "markdown",
   "id": "5b37d04b",
   "metadata": {},
   "source": [
    "Таким образом мы видим, что большую часть клиентов финансовых услуг на рассматриваемых рынках составляют люди, готовые рекомендовать используемые услуги (Promoters).  \n",
    "Тем не менее общие закономерности распределния показателя на рынках Великобритании, США и Мексики остаются невыявленными в силу недостатка переменных для анализа (например, возраст, пол, семейное положение, общий кредитный рейтинг, продолжительность использования финансовых услуг, наличие кредитов/ипотек и т.д.). В свяхи с этим главной рекомендацией для будущих исследований является проведение анкетирования выборки из базы клиентов для установления дополнительных параметров, влияющих на готовность  рекомендовать предоставителя финансовых услуг знакомым."
   ]
  },
  {
   "cell_type": "markdown",
   "id": "2609d7d8",
   "metadata": {},
   "source": [
    "**Подведем итоги исследования обзором решенных задач:**  \n",
    "  \n",
    "- определить меры центральной тенденции по NPS в странах, принимавших участие в исследовании; **меры центральной тенденции по NPS определены**\n",
    "- исследовать динамику и тенденции изменения показателя в рассматриваемых странах; **динамика изменения NPS рассмотрена с помощью различных визуализаций, тенденции исследованы**\n",
    "- выявить общие закономерности изменения NPS; **данные исследованы, в настоящем датасете наблюдается нехватка переменных для выявления закономерностей**\n",
    "- составить рекомендации для проведения дальнейших исследований с целью выявления факторов, влияющих на динамику данного показателя. **рекомендации составлены**"
   ]
  },
  {
   "cell_type": "markdown",
   "id": "9bbe1fba",
   "metadata": {},
   "source": [
    "В связи с нехваткой данных для анализа текущего датасета далее будет проведено исследование на других данных, также посвященное банковскому сектору и потребительской лояльности, но под другим углом."
   ]
  },
  {
   "cell_type": "markdown",
   "id": "65d7021e",
   "metadata": {},
   "source": [
    "**Исследование оттока пользователей банков**"
   ]
  },
  {
   "cell_type": "markdown",
   "id": "39a86688",
   "metadata": {},
   "source": [
    "**Импортируем датафрейм Churn for Bank Customers**  \n",
    "List of Contents:\n",
    "- RowNumber - индекс строк  \n",
    "- CustomerId - рандомные значения ID пользователей  \n",
    "- Surname - фамилия пользователя  \n",
    "- CreditScore - кредитный рейтинг пользователя  \n",
    "- Geography - локация пользователя  \n",
    "- Gender - пол пользователя  \n",
    "- Age - возраст пользователя  \n",
    "- Tenure - количество лет, которые пользователь является клиентом банка  \n",
    "- Balance - баланс на счетах пользователя  \n",
    "- NumOfProducts - количество продуктов, которые пользователь покупает у банка  \n",
    "- HasCrCard - индикатор наличия кредитной карты у пользователя  \n",
    "- IsActiveMember - индикатор активности пользователя банка  \n",
    "- EstimatedSalary - прогнозная зарплата пользователя  \n",
    "- Exited - индикатор отказал от банка пользователем  "
   ]
  },
  {
   "cell_type": "code",
   "execution_count": 23,
   "id": "b2a136a7",
   "metadata": {},
   "outputs": [
    {
     "data": {
      "text/html": [
       "<div>\n",
       "<style scoped>\n",
       "    .dataframe tbody tr th:only-of-type {\n",
       "        vertical-align: middle;\n",
       "    }\n",
       "\n",
       "    .dataframe tbody tr th {\n",
       "        vertical-align: top;\n",
       "    }\n",
       "\n",
       "    .dataframe thead th {\n",
       "        text-align: right;\n",
       "    }\n",
       "</style>\n",
       "<table border=\"1\" class=\"dataframe\">\n",
       "  <thead>\n",
       "    <tr style=\"text-align: right;\">\n",
       "      <th></th>\n",
       "      <th>RowNumber</th>\n",
       "      <th>CustomerId</th>\n",
       "      <th>Surname</th>\n",
       "      <th>CreditScore</th>\n",
       "      <th>Geography</th>\n",
       "      <th>Gender</th>\n",
       "      <th>Age</th>\n",
       "      <th>Tenure</th>\n",
       "      <th>Balance</th>\n",
       "      <th>NumOfProducts</th>\n",
       "      <th>HasCrCard</th>\n",
       "      <th>IsActiveMember</th>\n",
       "      <th>EstimatedSalary</th>\n",
       "      <th>Exited</th>\n",
       "    </tr>\n",
       "  </thead>\n",
       "  <tbody>\n",
       "    <tr>\n",
       "      <th>0</th>\n",
       "      <td>1</td>\n",
       "      <td>15634602</td>\n",
       "      <td>Hargrave</td>\n",
       "      <td>619</td>\n",
       "      <td>France</td>\n",
       "      <td>Female</td>\n",
       "      <td>42</td>\n",
       "      <td>2</td>\n",
       "      <td>0.00</td>\n",
       "      <td>1</td>\n",
       "      <td>1</td>\n",
       "      <td>1</td>\n",
       "      <td>101348.88</td>\n",
       "      <td>1</td>\n",
       "    </tr>\n",
       "    <tr>\n",
       "      <th>1</th>\n",
       "      <td>2</td>\n",
       "      <td>15647311</td>\n",
       "      <td>Hill</td>\n",
       "      <td>608</td>\n",
       "      <td>Spain</td>\n",
       "      <td>Female</td>\n",
       "      <td>41</td>\n",
       "      <td>1</td>\n",
       "      <td>83807.86</td>\n",
       "      <td>1</td>\n",
       "      <td>0</td>\n",
       "      <td>1</td>\n",
       "      <td>112542.58</td>\n",
       "      <td>0</td>\n",
       "    </tr>\n",
       "    <tr>\n",
       "      <th>2</th>\n",
       "      <td>3</td>\n",
       "      <td>15619304</td>\n",
       "      <td>Onio</td>\n",
       "      <td>502</td>\n",
       "      <td>France</td>\n",
       "      <td>Female</td>\n",
       "      <td>42</td>\n",
       "      <td>8</td>\n",
       "      <td>159660.80</td>\n",
       "      <td>3</td>\n",
       "      <td>1</td>\n",
       "      <td>0</td>\n",
       "      <td>113931.57</td>\n",
       "      <td>1</td>\n",
       "    </tr>\n",
       "    <tr>\n",
       "      <th>3</th>\n",
       "      <td>4</td>\n",
       "      <td>15701354</td>\n",
       "      <td>Boni</td>\n",
       "      <td>699</td>\n",
       "      <td>France</td>\n",
       "      <td>Female</td>\n",
       "      <td>39</td>\n",
       "      <td>1</td>\n",
       "      <td>0.00</td>\n",
       "      <td>2</td>\n",
       "      <td>0</td>\n",
       "      <td>0</td>\n",
       "      <td>93826.63</td>\n",
       "      <td>0</td>\n",
       "    </tr>\n",
       "    <tr>\n",
       "      <th>4</th>\n",
       "      <td>5</td>\n",
       "      <td>15737888</td>\n",
       "      <td>Mitchell</td>\n",
       "      <td>850</td>\n",
       "      <td>Spain</td>\n",
       "      <td>Female</td>\n",
       "      <td>43</td>\n",
       "      <td>2</td>\n",
       "      <td>125510.82</td>\n",
       "      <td>1</td>\n",
       "      <td>1</td>\n",
       "      <td>1</td>\n",
       "      <td>79084.10</td>\n",
       "      <td>0</td>\n",
       "    </tr>\n",
       "    <tr>\n",
       "      <th>...</th>\n",
       "      <td>...</td>\n",
       "      <td>...</td>\n",
       "      <td>...</td>\n",
       "      <td>...</td>\n",
       "      <td>...</td>\n",
       "      <td>...</td>\n",
       "      <td>...</td>\n",
       "      <td>...</td>\n",
       "      <td>...</td>\n",
       "      <td>...</td>\n",
       "      <td>...</td>\n",
       "      <td>...</td>\n",
       "      <td>...</td>\n",
       "      <td>...</td>\n",
       "    </tr>\n",
       "    <tr>\n",
       "      <th>9995</th>\n",
       "      <td>9996</td>\n",
       "      <td>15606229</td>\n",
       "      <td>Obijiaku</td>\n",
       "      <td>771</td>\n",
       "      <td>France</td>\n",
       "      <td>Male</td>\n",
       "      <td>39</td>\n",
       "      <td>5</td>\n",
       "      <td>0.00</td>\n",
       "      <td>2</td>\n",
       "      <td>1</td>\n",
       "      <td>0</td>\n",
       "      <td>96270.64</td>\n",
       "      <td>0</td>\n",
       "    </tr>\n",
       "    <tr>\n",
       "      <th>9996</th>\n",
       "      <td>9997</td>\n",
       "      <td>15569892</td>\n",
       "      <td>Johnstone</td>\n",
       "      <td>516</td>\n",
       "      <td>France</td>\n",
       "      <td>Male</td>\n",
       "      <td>35</td>\n",
       "      <td>10</td>\n",
       "      <td>57369.61</td>\n",
       "      <td>1</td>\n",
       "      <td>1</td>\n",
       "      <td>1</td>\n",
       "      <td>101699.77</td>\n",
       "      <td>0</td>\n",
       "    </tr>\n",
       "    <tr>\n",
       "      <th>9997</th>\n",
       "      <td>9998</td>\n",
       "      <td>15584532</td>\n",
       "      <td>Liu</td>\n",
       "      <td>709</td>\n",
       "      <td>France</td>\n",
       "      <td>Female</td>\n",
       "      <td>36</td>\n",
       "      <td>7</td>\n",
       "      <td>0.00</td>\n",
       "      <td>1</td>\n",
       "      <td>0</td>\n",
       "      <td>1</td>\n",
       "      <td>42085.58</td>\n",
       "      <td>1</td>\n",
       "    </tr>\n",
       "    <tr>\n",
       "      <th>9998</th>\n",
       "      <td>9999</td>\n",
       "      <td>15682355</td>\n",
       "      <td>Sabbatini</td>\n",
       "      <td>772</td>\n",
       "      <td>Germany</td>\n",
       "      <td>Male</td>\n",
       "      <td>42</td>\n",
       "      <td>3</td>\n",
       "      <td>75075.31</td>\n",
       "      <td>2</td>\n",
       "      <td>1</td>\n",
       "      <td>0</td>\n",
       "      <td>92888.52</td>\n",
       "      <td>1</td>\n",
       "    </tr>\n",
       "    <tr>\n",
       "      <th>9999</th>\n",
       "      <td>10000</td>\n",
       "      <td>15628319</td>\n",
       "      <td>Walker</td>\n",
       "      <td>792</td>\n",
       "      <td>France</td>\n",
       "      <td>Female</td>\n",
       "      <td>28</td>\n",
       "      <td>4</td>\n",
       "      <td>130142.79</td>\n",
       "      <td>1</td>\n",
       "      <td>1</td>\n",
       "      <td>0</td>\n",
       "      <td>38190.78</td>\n",
       "      <td>0</td>\n",
       "    </tr>\n",
       "  </tbody>\n",
       "</table>\n",
       "<p>10000 rows × 14 columns</p>\n",
       "</div>"
      ],
      "text/plain": [
       "      RowNumber  CustomerId    Surname  CreditScore Geography  Gender  Age  \\\n",
       "0             1    15634602   Hargrave          619    France  Female   42   \n",
       "1             2    15647311       Hill          608     Spain  Female   41   \n",
       "2             3    15619304       Onio          502    France  Female   42   \n",
       "3             4    15701354       Boni          699    France  Female   39   \n",
       "4             5    15737888   Mitchell          850     Spain  Female   43   \n",
       "...         ...         ...        ...          ...       ...     ...  ...   \n",
       "9995       9996    15606229   Obijiaku          771    France    Male   39   \n",
       "9996       9997    15569892  Johnstone          516    France    Male   35   \n",
       "9997       9998    15584532        Liu          709    France  Female   36   \n",
       "9998       9999    15682355  Sabbatini          772   Germany    Male   42   \n",
       "9999      10000    15628319     Walker          792    France  Female   28   \n",
       "\n",
       "      Tenure    Balance  NumOfProducts  HasCrCard  IsActiveMember  \\\n",
       "0          2       0.00              1          1               1   \n",
       "1          1   83807.86              1          0               1   \n",
       "2          8  159660.80              3          1               0   \n",
       "3          1       0.00              2          0               0   \n",
       "4          2  125510.82              1          1               1   \n",
       "...      ...        ...            ...        ...             ...   \n",
       "9995       5       0.00              2          1               0   \n",
       "9996      10   57369.61              1          1               1   \n",
       "9997       7       0.00              1          0               1   \n",
       "9998       3   75075.31              2          1               0   \n",
       "9999       4  130142.79              1          1               0   \n",
       "\n",
       "      EstimatedSalary  Exited  \n",
       "0           101348.88       1  \n",
       "1           112542.58       0  \n",
       "2           113931.57       1  \n",
       "3            93826.63       0  \n",
       "4            79084.10       0  \n",
       "...               ...     ...  \n",
       "9995         96270.64       0  \n",
       "9996        101699.77       0  \n",
       "9997         42085.58       1  \n",
       "9998         92888.52       1  \n",
       "9999         38190.78       0  \n",
       "\n",
       "[10000 rows x 14 columns]"
      ]
     },
     "execution_count": 23,
     "metadata": {},
     "output_type": "execute_result"
    }
   ],
   "source": [
    "churn = pd.read_csv('churn.csv')\n",
    "churn"
   ]
  },
  {
   "cell_type": "code",
   "execution_count": 24,
   "id": "24f769d0",
   "metadata": {},
   "outputs": [
    {
     "name": "stdout",
     "output_type": "stream",
     "text": [
      "<class 'pandas.core.frame.DataFrame'>\n",
      "RangeIndex: 10000 entries, 0 to 9999\n",
      "Data columns (total 14 columns):\n",
      " #   Column           Non-Null Count  Dtype  \n",
      "---  ------           --------------  -----  \n",
      " 0   RowNumber        10000 non-null  int64  \n",
      " 1   CustomerId       10000 non-null  int64  \n",
      " 2   Surname          10000 non-null  object \n",
      " 3   CreditScore      10000 non-null  int64  \n",
      " 4   Geography        10000 non-null  object \n",
      " 5   Gender           10000 non-null  object \n",
      " 6   Age              10000 non-null  int64  \n",
      " 7   Tenure           10000 non-null  int64  \n",
      " 8   Balance          10000 non-null  float64\n",
      " 9   NumOfProducts    10000 non-null  int64  \n",
      " 10  HasCrCard        10000 non-null  int64  \n",
      " 11  IsActiveMember   10000 non-null  int64  \n",
      " 12  EstimatedSalary  10000 non-null  float64\n",
      " 13  Exited           10000 non-null  int64  \n",
      "dtypes: float64(2), int64(9), object(3)\n",
      "memory usage: 1.1+ MB\n"
     ]
    }
   ],
   "source": [
    "churn.info()"
   ]
  },
  {
   "cell_type": "markdown",
   "id": "6c5515ce",
   "metadata": {},
   "source": [
    "Удаляем лишний столбец с индексом"
   ]
  },
  {
   "cell_type": "code",
   "execution_count": 25,
   "id": "5500f431",
   "metadata": {},
   "outputs": [
    {
     "data": {
      "text/html": [
       "<div>\n",
       "<style scoped>\n",
       "    .dataframe tbody tr th:only-of-type {\n",
       "        vertical-align: middle;\n",
       "    }\n",
       "\n",
       "    .dataframe tbody tr th {\n",
       "        vertical-align: top;\n",
       "    }\n",
       "\n",
       "    .dataframe thead th {\n",
       "        text-align: right;\n",
       "    }\n",
       "</style>\n",
       "<table border=\"1\" class=\"dataframe\">\n",
       "  <thead>\n",
       "    <tr style=\"text-align: right;\">\n",
       "      <th></th>\n",
       "      <th>CustomerId</th>\n",
       "      <th>Surname</th>\n",
       "      <th>CreditScore</th>\n",
       "      <th>Geography</th>\n",
       "      <th>Gender</th>\n",
       "      <th>Age</th>\n",
       "      <th>Tenure</th>\n",
       "      <th>Balance</th>\n",
       "      <th>NumOfProducts</th>\n",
       "      <th>HasCrCard</th>\n",
       "      <th>IsActiveMember</th>\n",
       "      <th>EstimatedSalary</th>\n",
       "      <th>Exited</th>\n",
       "    </tr>\n",
       "  </thead>\n",
       "  <tbody>\n",
       "    <tr>\n",
       "      <th>0</th>\n",
       "      <td>15634602</td>\n",
       "      <td>Hargrave</td>\n",
       "      <td>619</td>\n",
       "      <td>France</td>\n",
       "      <td>Female</td>\n",
       "      <td>42</td>\n",
       "      <td>2</td>\n",
       "      <td>0.00</td>\n",
       "      <td>1</td>\n",
       "      <td>1</td>\n",
       "      <td>1</td>\n",
       "      <td>101348.88</td>\n",
       "      <td>1</td>\n",
       "    </tr>\n",
       "    <tr>\n",
       "      <th>1</th>\n",
       "      <td>15647311</td>\n",
       "      <td>Hill</td>\n",
       "      <td>608</td>\n",
       "      <td>Spain</td>\n",
       "      <td>Female</td>\n",
       "      <td>41</td>\n",
       "      <td>1</td>\n",
       "      <td>83807.86</td>\n",
       "      <td>1</td>\n",
       "      <td>0</td>\n",
       "      <td>1</td>\n",
       "      <td>112542.58</td>\n",
       "      <td>0</td>\n",
       "    </tr>\n",
       "    <tr>\n",
       "      <th>2</th>\n",
       "      <td>15619304</td>\n",
       "      <td>Onio</td>\n",
       "      <td>502</td>\n",
       "      <td>France</td>\n",
       "      <td>Female</td>\n",
       "      <td>42</td>\n",
       "      <td>8</td>\n",
       "      <td>159660.80</td>\n",
       "      <td>3</td>\n",
       "      <td>1</td>\n",
       "      <td>0</td>\n",
       "      <td>113931.57</td>\n",
       "      <td>1</td>\n",
       "    </tr>\n",
       "    <tr>\n",
       "      <th>3</th>\n",
       "      <td>15701354</td>\n",
       "      <td>Boni</td>\n",
       "      <td>699</td>\n",
       "      <td>France</td>\n",
       "      <td>Female</td>\n",
       "      <td>39</td>\n",
       "      <td>1</td>\n",
       "      <td>0.00</td>\n",
       "      <td>2</td>\n",
       "      <td>0</td>\n",
       "      <td>0</td>\n",
       "      <td>93826.63</td>\n",
       "      <td>0</td>\n",
       "    </tr>\n",
       "    <tr>\n",
       "      <th>4</th>\n",
       "      <td>15737888</td>\n",
       "      <td>Mitchell</td>\n",
       "      <td>850</td>\n",
       "      <td>Spain</td>\n",
       "      <td>Female</td>\n",
       "      <td>43</td>\n",
       "      <td>2</td>\n",
       "      <td>125510.82</td>\n",
       "      <td>1</td>\n",
       "      <td>1</td>\n",
       "      <td>1</td>\n",
       "      <td>79084.10</td>\n",
       "      <td>0</td>\n",
       "    </tr>\n",
       "    <tr>\n",
       "      <th>...</th>\n",
       "      <td>...</td>\n",
       "      <td>...</td>\n",
       "      <td>...</td>\n",
       "      <td>...</td>\n",
       "      <td>...</td>\n",
       "      <td>...</td>\n",
       "      <td>...</td>\n",
       "      <td>...</td>\n",
       "      <td>...</td>\n",
       "      <td>...</td>\n",
       "      <td>...</td>\n",
       "      <td>...</td>\n",
       "      <td>...</td>\n",
       "    </tr>\n",
       "    <tr>\n",
       "      <th>9995</th>\n",
       "      <td>15606229</td>\n",
       "      <td>Obijiaku</td>\n",
       "      <td>771</td>\n",
       "      <td>France</td>\n",
       "      <td>Male</td>\n",
       "      <td>39</td>\n",
       "      <td>5</td>\n",
       "      <td>0.00</td>\n",
       "      <td>2</td>\n",
       "      <td>1</td>\n",
       "      <td>0</td>\n",
       "      <td>96270.64</td>\n",
       "      <td>0</td>\n",
       "    </tr>\n",
       "    <tr>\n",
       "      <th>9996</th>\n",
       "      <td>15569892</td>\n",
       "      <td>Johnstone</td>\n",
       "      <td>516</td>\n",
       "      <td>France</td>\n",
       "      <td>Male</td>\n",
       "      <td>35</td>\n",
       "      <td>10</td>\n",
       "      <td>57369.61</td>\n",
       "      <td>1</td>\n",
       "      <td>1</td>\n",
       "      <td>1</td>\n",
       "      <td>101699.77</td>\n",
       "      <td>0</td>\n",
       "    </tr>\n",
       "    <tr>\n",
       "      <th>9997</th>\n",
       "      <td>15584532</td>\n",
       "      <td>Liu</td>\n",
       "      <td>709</td>\n",
       "      <td>France</td>\n",
       "      <td>Female</td>\n",
       "      <td>36</td>\n",
       "      <td>7</td>\n",
       "      <td>0.00</td>\n",
       "      <td>1</td>\n",
       "      <td>0</td>\n",
       "      <td>1</td>\n",
       "      <td>42085.58</td>\n",
       "      <td>1</td>\n",
       "    </tr>\n",
       "    <tr>\n",
       "      <th>9998</th>\n",
       "      <td>15682355</td>\n",
       "      <td>Sabbatini</td>\n",
       "      <td>772</td>\n",
       "      <td>Germany</td>\n",
       "      <td>Male</td>\n",
       "      <td>42</td>\n",
       "      <td>3</td>\n",
       "      <td>75075.31</td>\n",
       "      <td>2</td>\n",
       "      <td>1</td>\n",
       "      <td>0</td>\n",
       "      <td>92888.52</td>\n",
       "      <td>1</td>\n",
       "    </tr>\n",
       "    <tr>\n",
       "      <th>9999</th>\n",
       "      <td>15628319</td>\n",
       "      <td>Walker</td>\n",
       "      <td>792</td>\n",
       "      <td>France</td>\n",
       "      <td>Female</td>\n",
       "      <td>28</td>\n",
       "      <td>4</td>\n",
       "      <td>130142.79</td>\n",
       "      <td>1</td>\n",
       "      <td>1</td>\n",
       "      <td>0</td>\n",
       "      <td>38190.78</td>\n",
       "      <td>0</td>\n",
       "    </tr>\n",
       "  </tbody>\n",
       "</table>\n",
       "<p>10000 rows × 13 columns</p>\n",
       "</div>"
      ],
      "text/plain": [
       "      CustomerId    Surname  CreditScore Geography  Gender  Age  Tenure  \\\n",
       "0       15634602   Hargrave          619    France  Female   42       2   \n",
       "1       15647311       Hill          608     Spain  Female   41       1   \n",
       "2       15619304       Onio          502    France  Female   42       8   \n",
       "3       15701354       Boni          699    France  Female   39       1   \n",
       "4       15737888   Mitchell          850     Spain  Female   43       2   \n",
       "...          ...        ...          ...       ...     ...  ...     ...   \n",
       "9995    15606229   Obijiaku          771    France    Male   39       5   \n",
       "9996    15569892  Johnstone          516    France    Male   35      10   \n",
       "9997    15584532        Liu          709    France  Female   36       7   \n",
       "9998    15682355  Sabbatini          772   Germany    Male   42       3   \n",
       "9999    15628319     Walker          792    France  Female   28       4   \n",
       "\n",
       "        Balance  NumOfProducts  HasCrCard  IsActiveMember  EstimatedSalary  \\\n",
       "0          0.00              1          1               1        101348.88   \n",
       "1      83807.86              1          0               1        112542.58   \n",
       "2     159660.80              3          1               0        113931.57   \n",
       "3          0.00              2          0               0         93826.63   \n",
       "4     125510.82              1          1               1         79084.10   \n",
       "...         ...            ...        ...             ...              ...   \n",
       "9995       0.00              2          1               0         96270.64   \n",
       "9996   57369.61              1          1               1        101699.77   \n",
       "9997       0.00              1          0               1         42085.58   \n",
       "9998   75075.31              2          1               0         92888.52   \n",
       "9999  130142.79              1          1               0         38190.78   \n",
       "\n",
       "      Exited  \n",
       "0          1  \n",
       "1          0  \n",
       "2          1  \n",
       "3          0  \n",
       "4          0  \n",
       "...      ...  \n",
       "9995       0  \n",
       "9996       0  \n",
       "9997       1  \n",
       "9998       1  \n",
       "9999       0  \n",
       "\n",
       "[10000 rows x 13 columns]"
      ]
     },
     "execution_count": 25,
     "metadata": {},
     "output_type": "execute_result"
    }
   ],
   "source": [
    "del churn['RowNumber']\n",
    "churn"
   ]
  },
  {
   "cell_type": "markdown",
   "id": "a9f65390",
   "metadata": {},
   "source": [
    "**Задачи исследования:**   \n",
    "- определить, какие параметры влияют на отказ пользователей от услуг банка;  \n",
    "- сформировать рекомендации для удержания пользователей банка."
   ]
  },
  {
   "cell_type": "code",
   "execution_count": 26,
   "id": "8659ab97",
   "metadata": {},
   "outputs": [
    {
     "data": {
      "text/plain": [
       "IsActiveMember    -0.156128\n",
       "NumOfProducts     -0.047820\n",
       "CreditScore       -0.027094\n",
       "Tenure            -0.014001\n",
       "HasCrCard         -0.007138\n",
       "CustomerId        -0.006248\n",
       "EstimatedSalary    0.012097\n",
       "Balance            0.118533\n",
       "Age                0.285323\n",
       "Exited             1.000000\n",
       "Name: Exited, dtype: float64"
      ]
     },
     "execution_count": 26,
     "metadata": {},
     "output_type": "execute_result"
    }
   ],
   "source": [
    "churn.corr()['Exited'].sort_values()"
   ]
  },
  {
   "cell_type": "code",
   "execution_count": 27,
   "id": "c54dd62c",
   "metadata": {},
   "outputs": [
    {
     "data": {
      "text/plain": [
       "<AxesSubplot:>"
      ]
     },
     "execution_count": 27,
     "metadata": {},
     "output_type": "execute_result"
    },
    {
     "data": {
      "image/png": "[encoded data removed]",
      "text/plain": [
       "<Figure size 720x360 with 2 Axes>"
      ]
     },
     "metadata": {
      "needs_background": "light"
     },
     "output_type": "display_data"
    }
   ],
   "source": [
    "import seaborn as sns\n",
    "\n",
    "fig, ax = plt.subplots(1,1, figsize = (10,5))\n",
    "sns.heatmap(churn.corr(),annot=True)"
   ]
  },
  {
   "cell_type": "markdown",
   "id": "af906873",
   "metadata": {},
   "source": [
    "Существует очень слабая обратная корреляция между колиечеством банковских продуктов и балансов на счету (чем меньше один показатель, тем выше другой) и слабая корреляция между возрастом и уходом от банка. На данном этапе прямых характеристик, влияющих на уход от банка не найдено. "
   ]
  },
  {
   "cell_type": "code",
   "execution_count": 29,
   "id": "c75d89e9",
   "metadata": {},
   "outputs": [
    {
     "data": {
      "text/plain": [
       "<AxesSubplot:xlabel='Exited'>"
      ]
     },
     "execution_count": 29,
     "metadata": {},
     "output_type": "execute_result"
    },
    {
     "data": {
      "image/png": "[encoded data removed]",
      "text/plain": [
       "<Figure size 432x288 with 1 Axes>"
      ]
     },
     "metadata": {
      "needs_background": "light"
     },
     "output_type": "display_data"
    }
   ],
   "source": [
    "churn.groupby('Exited')['Gender'].value_counts().unstack().plot(kind='bar', stacked=True)"
   ]
  },
  {
   "cell_type": "code",
   "execution_count": 30,
   "id": "03a2b092",
   "metadata": {},
   "outputs": [
    {
     "data": {
      "text/plain": [
       "<AxesSubplot:xlabel='Exited'>"
      ]
     },
     "execution_count": 30,
     "metadata": {},
     "output_type": "execute_result"
    },
    {
     "data": {
      "image/png": "[encoded data removed]",
      "text/plain": [
       "<Figure size 432x288 with 1 Axes>"
      ]
     },
     "metadata": {
      "needs_background": "light"
     },
     "output_type": "display_data"
    }
   ],
   "source": [
    "churn.groupby('Exited')['Geography'].value_counts().unstack().plot(kind='bar', stacked=True)"
   ]
  },
  {
   "cell_type": "code",
   "execution_count": 31,
   "id": "52ee46bc",
   "metadata": {},
   "outputs": [
    {
     "data": {
      "text/plain": [
       "<AxesSubplot:xlabel='Exited'>"
      ]
     },
     "execution_count": 31,
     "metadata": {},
     "output_type": "execute_result"
    },
    {
     "data": {
      "image/png": "[encoded data removed]",
      "text/plain": [
       "<Figure size 432x288 with 1 Axes>"
      ]
     },
     "metadata": {
      "needs_background": "light"
     },
     "output_type": "display_data"
    }
   ],
   "source": [
    "churn.groupby('Exited')['HasCrCard'].value_counts().unstack().plot(kind='bar', stacked=True)"
   ]
  },
  {
   "cell_type": "code",
   "execution_count": 32,
   "id": "713629d0",
   "metadata": {},
   "outputs": [
    {
     "data": {
      "text/plain": [
       "<AxesSubplot:xlabel='Exited'>"
      ]
     },
     "execution_count": 32,
     "metadata": {},
     "output_type": "execute_result"
    },
    {
     "data": {
      "image/png": "[encoded data removed]",
      "text/plain": [
       "<Figure size 432x288 with 1 Axes>"
      ]
     },
     "metadata": {
      "needs_background": "light"
     },
     "output_type": "display_data"
    }
   ],
   "source": [
    "churn.groupby('Exited')['IsActiveMember'].value_counts().unstack().plot(kind='bar', stacked=True)"
   ]
  },
  {
   "cell_type": "markdown",
   "id": "884f107e",
   "metadata": {},
   "source": [
    "Характеристика большинства клиентов, покинувших банк:\n",
    "- большая часть покинувших банк клиентов - женщины;\n",
    "- меньше всего клиентов покинуло банк в Испании;\n",
    "- большая часть клиентов имела кредитную карту;\n",
    "- большая часть покинувших банк клиентов не были активными пользователями услуг банка."
   ]
  },
  {
   "cell_type": "code",
   "execution_count": 33,
   "id": "b688a7e2",
   "metadata": {},
   "outputs": [
    {
     "data": {
      "text/plain": [
       "Exited\n",
       "0     99738.391772\n",
       "1    101465.677531\n",
       "Name: EstimatedSalary, dtype: float64"
      ]
     },
     "execution_count": 33,
     "metadata": {},
     "output_type": "execute_result"
    }
   ],
   "source": [
    "mean_salary = churn.groupby(churn['Exited'])['EstimatedSalary'].mean()\n",
    "mean_salary"
   ]
  },
  {
   "cell_type": "code",
   "execution_count": 34,
   "id": "c1c55dea",
   "metadata": {},
   "outputs": [
    {
     "data": {
      "text/plain": [
       "Exited\n",
       "0     99645.04\n",
       "1    102460.84\n",
       "Name: EstimatedSalary, dtype: float64"
      ]
     },
     "execution_count": 34,
     "metadata": {},
     "output_type": "execute_result"
    }
   ],
   "source": [
    "median_salary = churn.groupby(churn['Exited'])['EstimatedSalary'].median()\n",
    "median_salary"
   ]
  },
  {
   "cell_type": "markdown",
   "id": "08a7ae6e",
   "metadata": {},
   "source": [
    "Средняя и медианная ожидаемые зарплаты клиентов, покинувших банк, больше, чем у оставшихся клиентов."
   ]
  },
  {
   "cell_type": "code",
   "execution_count": 55,
   "id": "98641541",
   "metadata": {},
   "outputs": [
    {
     "data": {
      "text/plain": [
       "<AxesSubplot:>"
      ]
     },
     "execution_count": 55,
     "metadata": {},
     "output_type": "execute_result"
    },
    {
     "data": {
      "image/png": "[encoded data removed]",
      "text/plain": [
       "<Figure size 432x288 with 1 Axes>"
      ]
     },
     "metadata": {
      "needs_background": "light"
     },
     "output_type": "display_data"
    }
   ],
   "source": [
    "churn['EstimatedSalary'].hist(bins=100)"
   ]
  },
  {
   "cell_type": "code",
   "execution_count": 56,
   "id": "0d2e7185",
   "metadata": {},
   "outputs": [],
   "source": [
    "import scipy.stats "
   ]
  },
  {
   "cell_type": "code",
   "execution_count": 57,
   "id": "948bf809",
   "metadata": {},
   "outputs": [
    {
     "data": {
      "text/html": [
       "<div>\n",
       "<style scoped>\n",
       "    .dataframe tbody tr th:only-of-type {\n",
       "        vertical-align: middle;\n",
       "    }\n",
       "\n",
       "    .dataframe tbody tr th {\n",
       "        vertical-align: top;\n",
       "    }\n",
       "\n",
       "    .dataframe thead th {\n",
       "        text-align: right;\n",
       "    }\n",
       "</style>\n",
       "<table border=\"1\" class=\"dataframe\">\n",
       "  <thead>\n",
       "    <tr style=\"text-align: right;\">\n",
       "      <th></th>\n",
       "      <th>CustomerId</th>\n",
       "      <th>Surname</th>\n",
       "      <th>CreditScore</th>\n",
       "      <th>Geography</th>\n",
       "      <th>Gender</th>\n",
       "      <th>Age</th>\n",
       "      <th>Tenure</th>\n",
       "      <th>Balance</th>\n",
       "      <th>NumOfProducts</th>\n",
       "      <th>HasCrCard</th>\n",
       "      <th>IsActiveMember</th>\n",
       "      <th>EstimatedSalary</th>\n",
       "      <th>Exited</th>\n",
       "      <th>z-score</th>\n",
       "    </tr>\n",
       "  </thead>\n",
       "  <tbody>\n",
       "    <tr>\n",
       "      <th>0</th>\n",
       "      <td>15634602</td>\n",
       "      <td>Hargrave</td>\n",
       "      <td>619</td>\n",
       "      <td>France</td>\n",
       "      <td>Female</td>\n",
       "      <td>42</td>\n",
       "      <td>2</td>\n",
       "      <td>0.00</td>\n",
       "      <td>1</td>\n",
       "      <td>1</td>\n",
       "      <td>1</td>\n",
       "      <td>101348.88</td>\n",
       "      <td>1</td>\n",
       "      <td>0.021886</td>\n",
       "    </tr>\n",
       "    <tr>\n",
       "      <th>1</th>\n",
       "      <td>15647311</td>\n",
       "      <td>Hill</td>\n",
       "      <td>608</td>\n",
       "      <td>Spain</td>\n",
       "      <td>Female</td>\n",
       "      <td>41</td>\n",
       "      <td>1</td>\n",
       "      <td>83807.86</td>\n",
       "      <td>1</td>\n",
       "      <td>0</td>\n",
       "      <td>1</td>\n",
       "      <td>112542.58</td>\n",
       "      <td>0</td>\n",
       "      <td>0.216534</td>\n",
       "    </tr>\n",
       "    <tr>\n",
       "      <th>2</th>\n",
       "      <td>15619304</td>\n",
       "      <td>Onio</td>\n",
       "      <td>502</td>\n",
       "      <td>France</td>\n",
       "      <td>Female</td>\n",
       "      <td>42</td>\n",
       "      <td>8</td>\n",
       "      <td>159660.80</td>\n",
       "      <td>3</td>\n",
       "      <td>1</td>\n",
       "      <td>0</td>\n",
       "      <td>113931.57</td>\n",
       "      <td>1</td>\n",
       "      <td>0.240687</td>\n",
       "    </tr>\n",
       "    <tr>\n",
       "      <th>3</th>\n",
       "      <td>15701354</td>\n",
       "      <td>Boni</td>\n",
       "      <td>699</td>\n",
       "      <td>France</td>\n",
       "      <td>Female</td>\n",
       "      <td>39</td>\n",
       "      <td>1</td>\n",
       "      <td>0.00</td>\n",
       "      <td>2</td>\n",
       "      <td>0</td>\n",
       "      <td>0</td>\n",
       "      <td>93826.63</td>\n",
       "      <td>0</td>\n",
       "      <td>-0.108918</td>\n",
       "    </tr>\n",
       "    <tr>\n",
       "      <th>4</th>\n",
       "      <td>15737888</td>\n",
       "      <td>Mitchell</td>\n",
       "      <td>850</td>\n",
       "      <td>Spain</td>\n",
       "      <td>Female</td>\n",
       "      <td>43</td>\n",
       "      <td>2</td>\n",
       "      <td>125510.82</td>\n",
       "      <td>1</td>\n",
       "      <td>1</td>\n",
       "      <td>1</td>\n",
       "      <td>79084.10</td>\n",
       "      <td>0</td>\n",
       "      <td>-0.365276</td>\n",
       "    </tr>\n",
       "  </tbody>\n",
       "</table>\n",
       "</div>"
      ],
      "text/plain": [
       "   CustomerId   Surname  CreditScore Geography  Gender  Age  Tenure  \\\n",
       "0    15634602  Hargrave          619    France  Female   42       2   \n",
       "1    15647311      Hill          608     Spain  Female   41       1   \n",
       "2    15619304      Onio          502    France  Female   42       8   \n",
       "3    15701354      Boni          699    France  Female   39       1   \n",
       "4    15737888  Mitchell          850     Spain  Female   43       2   \n",
       "\n",
       "     Balance  NumOfProducts  HasCrCard  IsActiveMember  EstimatedSalary  \\\n",
       "0       0.00              1          1               1        101348.88   \n",
       "1   83807.86              1          0               1        112542.58   \n",
       "2  159660.80              3          1               0        113931.57   \n",
       "3       0.00              2          0               0         93826.63   \n",
       "4  125510.82              1          1               1         79084.10   \n",
       "\n",
       "   Exited   z-score  \n",
       "0       1  0.021886  \n",
       "1       0  0.216534  \n",
       "2       1  0.240687  \n",
       "3       0 -0.108918  \n",
       "4       0 -0.365276  "
      ]
     },
     "execution_count": 57,
     "metadata": {},
     "output_type": "execute_result"
    }
   ],
   "source": [
    "churn['z-score'] = scipy.stats.zscore(churn['EstimatedSalary'])\n",
    "churn.head()"
   ]
  },
  {
   "cell_type": "code",
   "execution_count": 58,
   "id": "17821efb",
   "metadata": {},
   "outputs": [
    {
     "data": {
      "text/html": [
       "<div>\n",
       "<style scoped>\n",
       "    .dataframe tbody tr th:only-of-type {\n",
       "        vertical-align: middle;\n",
       "    }\n",
       "\n",
       "    .dataframe tbody tr th {\n",
       "        vertical-align: top;\n",
       "    }\n",
       "\n",
       "    .dataframe thead th {\n",
       "        text-align: right;\n",
       "    }\n",
       "</style>\n",
       "<table border=\"1\" class=\"dataframe\">\n",
       "  <thead>\n",
       "    <tr style=\"text-align: right;\">\n",
       "      <th></th>\n",
       "      <th>CustomerId</th>\n",
       "      <th>Surname</th>\n",
       "      <th>CreditScore</th>\n",
       "      <th>Geography</th>\n",
       "      <th>Gender</th>\n",
       "      <th>Age</th>\n",
       "      <th>Tenure</th>\n",
       "      <th>Balance</th>\n",
       "      <th>NumOfProducts</th>\n",
       "      <th>HasCrCard</th>\n",
       "      <th>IsActiveMember</th>\n",
       "      <th>EstimatedSalary</th>\n",
       "      <th>Exited</th>\n",
       "      <th>z-score</th>\n",
       "    </tr>\n",
       "  </thead>\n",
       "  <tbody>\n",
       "  </tbody>\n",
       "</table>\n",
       "</div>"
      ],
      "text/plain": [
       "Empty DataFrame\n",
       "Columns: [CustomerId, Surname, CreditScore, Geography, Gender, Age, Tenure, Balance, NumOfProducts, HasCrCard, IsActiveMember, EstimatedSalary, Exited, z-score]\n",
       "Index: []"
      ]
     },
     "execution_count": 58,
     "metadata": {},
     "output_type": "execute_result"
    }
   ],
   "source": [
    "churn[churn['z-score'] < -3]"
   ]
  },
  {
   "cell_type": "code",
   "execution_count": 59,
   "id": "b80ea652",
   "metadata": {},
   "outputs": [
    {
     "data": {
      "text/plain": [
       "Exited\n",
       "0   -0.006118\n",
       "1    0.023917\n",
       "Name: z-score, dtype: float64"
      ]
     },
     "execution_count": 59,
     "metadata": {},
     "output_type": "execute_result"
    }
   ],
   "source": [
    "churn.groupby('Exited')['z-score'].mean()"
   ]
  },
  {
   "cell_type": "markdown",
   "id": "b349eb74",
   "metadata": {},
   "source": [
    "Выбросы по ожидаемым зарплатам отсутствуют."
   ]
  },
  {
   "cell_type": "code",
   "execution_count": 75,
   "id": "35e7db2b",
   "metadata": {},
   "outputs": [],
   "source": [
    "churn['GenderBinary'] = churn['Gender'].apply(lambda x: 1 if x == 'Male' else 0)"
   ]
  },
  {
   "cell_type": "code",
   "execution_count": null,
   "id": "692563b4",
   "metadata": {},
   "outputs": [],
   "source": [
    "H0: зависимость между наличием кредитной карты и уходом от банка отсутствует  \n",
    "HA: зависимость между наличием кредитной карты и уходом от банка существует"
   ]
  },
  {
   "cell_type": "code",
   "execution_count": 64,
   "id": "e474b7b3",
   "metadata": {},
   "outputs": [
    {
     "name": "stdout",
     "output_type": "stream",
     "text": [
      "1\n"
     ]
    }
   ],
   "source": [
    "alpha = 0.01\n",
    "dof = (2 - 1)*(2 - 1)\n",
    "print(dof)\n",
    "critical_value = 6.63"
   ]
  },
  {
   "cell_type": "code",
   "execution_count": 119,
   "id": "0eec6633",
   "metadata": {},
   "outputs": [
    {
     "data": {
      "text/html": [
       "<div>\n",
       "<style scoped>\n",
       "    .dataframe tbody tr th:only-of-type {\n",
       "        vertical-align: middle;\n",
       "    }\n",
       "\n",
       "    .dataframe tbody tr th {\n",
       "        vertical-align: top;\n",
       "    }\n",
       "\n",
       "    .dataframe thead th {\n",
       "        text-align: right;\n",
       "    }\n",
       "</style>\n",
       "<table border=\"1\" class=\"dataframe\">\n",
       "  <thead>\n",
       "    <tr style=\"text-align: right;\">\n",
       "      <th>Exited</th>\n",
       "      <th>0</th>\n",
       "      <th>1</th>\n",
       "    </tr>\n",
       "    <tr>\n",
       "      <th>HasCrCard</th>\n",
       "      <th></th>\n",
       "      <th></th>\n",
       "    </tr>\n",
       "  </thead>\n",
       "  <tbody>\n",
       "    <tr>\n",
       "      <th>0</th>\n",
       "      <td>2332</td>\n",
       "      <td>613</td>\n",
       "    </tr>\n",
       "    <tr>\n",
       "      <th>1</th>\n",
       "      <td>5631</td>\n",
       "      <td>1424</td>\n",
       "    </tr>\n",
       "  </tbody>\n",
       "</table>\n",
       "</div>"
      ],
      "text/plain": [
       "Exited        0     1\n",
       "HasCrCard            \n",
       "0          2332   613\n",
       "1          5631  1424"
      ]
     },
     "execution_count": 119,
     "metadata": {},
     "output_type": "execute_result"
    }
   ],
   "source": [
    "ct_o = churn.groupby('HasCrCard')['Exited'].value_counts().unstack()\n",
    "ct_o"
   ]
  },
  {
   "cell_type": "code",
   "execution_count": 120,
   "id": "6884c166",
   "metadata": {},
   "outputs": [
    {
     "name": "stdout",
     "output_type": "stream",
     "text": [
      "10000\n"
     ]
    }
   ],
   "source": [
    "n_total = ct_o.sum().sum()\n",
    "print(n_total)"
   ]
  },
  {
   "cell_type": "code",
   "execution_count": 121,
   "id": "abdb4e2c",
   "metadata": {},
   "outputs": [
    {
     "name": "stdout",
     "output_type": "stream",
     "text": [
      "7963 2037\n"
     ]
    }
   ],
   "source": [
    "n_exited_0 = ct_o[0].sum()\n",
    "n_exited_1 = ct_o[1].sum()\n",
    "print(n_exited_0, n_exited_1)"
   ]
  },
  {
   "cell_type": "code",
   "execution_count": 122,
   "id": "aecbfb47",
   "metadata": {},
   "outputs": [
    {
     "name": "stdout",
     "output_type": "stream",
     "text": [
      "0.7963 0.2037\n"
     ]
    }
   ],
   "source": [
    "p_exited_0 = n_exited_0 / n_total\n",
    "p_exited_1 = n_exited_1 / n_total\n",
    "print(p_exited_0, p_exited_1)"
   ]
  },
  {
   "cell_type": "code",
   "execution_count": 123,
   "id": "e344a347",
   "metadata": {},
   "outputs": [
    {
     "name": "stdout",
     "output_type": "stream",
     "text": [
      "2945 7055\n"
     ]
    }
   ],
   "source": [
    "n_card = ct_o.iloc[0].sum()\n",
    "n_nocard = ct_o.iloc[1].sum()\n",
    "print(n_card, n_nocard)"
   ]
  },
  {
   "cell_type": "code",
   "execution_count": 124,
   "id": "8a8bfaad",
   "metadata": {},
   "outputs": [
    {
     "name": "stdout",
     "output_type": "stream",
     "text": [
      "2345.1035 599.8965\n"
     ]
    }
   ],
   "source": [
    "f_e_exited_0_card = n_card * p_exited_0\n",
    "f_e_exited_1_card = n_card * p_exited_1\n",
    "print(f_e_exited_0_card, f_e_exited_1_card)"
   ]
  },
  {
   "cell_type": "code",
   "execution_count": 127,
   "id": "997f9ed0",
   "metadata": {},
   "outputs": [
    {
     "name": "stdout",
     "output_type": "stream",
     "text": [
      "5617.8965 1437.1035\n"
     ]
    }
   ],
   "source": [
    "f_e_exited_0_nocard = n_nocard * p_exited_0\n",
    "f_e_exited_1_nocard = n_nocard * p_exited_1\n",
    "print(f_e_exited_0_nocard, f_e_exited_1_nocard)"
   ]
  },
  {
   "cell_type": "code",
   "execution_count": 128,
   "id": "d4085fc5",
   "metadata": {},
   "outputs": [
    {
     "name": "stdout",
     "output_type": "stream",
     "text": [
      "[[2345.1035  599.8965]\n",
      " [5617.8965 1437.1035]]\n"
     ]
    }
   ],
   "source": [
    "ct_e = np.array([[f_e_exited_0_card, f_e_exited_1_card],\n",
    "                 [f_e_exited_0_nocard, f_e_exited_1_nocard]])\n",
    "print(ct_e)"
   ]
  },
  {
   "cell_type": "code",
   "execution_count": 129,
   "id": "0a6960bb",
   "metadata": {},
   "outputs": [
    {
     "data": {
      "text/plain": [
       "2345.1035"
      ]
     },
     "execution_count": 129,
     "metadata": {},
     "output_type": "execute_result"
    }
   ],
   "source": [
    "ct_o[0].sum() * ct_o.iloc[0].sum() / n_total"
   ]
  },
  {
   "cell_type": "code",
   "execution_count": 130,
   "id": "4f571ba8",
   "metadata": {},
   "outputs": [
    {
     "name": "stdout",
     "output_type": "stream",
     "text": [
      "0.5094769780392745 6.63\n",
      "False\n"
     ]
    }
   ],
   "source": [
    "chi_square = ((ct_o - ct_e)**2 / ct_e).sum().sum()\n",
    "print(chi_square, critical_value)\n",
    "print(chi_square > critical_value)"
   ]
  },
  {
   "cell_type": "code",
   "execution_count": 131,
   "id": "9963762a",
   "metadata": {},
   "outputs": [
    {
     "data": {
      "text/plain": [
       "(0.5094769780392745,\n",
       " 0.475365355970654,\n",
       " 1,\n",
       " array([[2345.1035,  599.8965],\n",
       "        [5617.8965, 1437.1035]]))"
      ]
     },
     "execution_count": 131,
     "metadata": {},
     "output_type": "execute_result"
    }
   ],
   "source": [
    "scipy.stats.chi2_contingency(ct_o, correction=False)"
   ]
  },
  {
   "cell_type": "markdown",
   "id": "ee14e7d2",
   "metadata": {},
   "source": [
    "Нулевая гипотеза подтверждена, зависимость между переменными отсутствует. "
   ]
  },
  {
   "cell_type": "code",
   "execution_count": 132,
   "id": "1220ae78",
   "metadata": {},
   "outputs": [
    {
     "data": {
      "text/html": [
       "<div>\n",
       "<style scoped>\n",
       "    .dataframe tbody tr th:only-of-type {\n",
       "        vertical-align: middle;\n",
       "    }\n",
       "\n",
       "    .dataframe tbody tr th {\n",
       "        vertical-align: top;\n",
       "    }\n",
       "\n",
       "    .dataframe thead th {\n",
       "        text-align: right;\n",
       "    }\n",
       "</style>\n",
       "<table border=\"1\" class=\"dataframe\">\n",
       "  <thead>\n",
       "    <tr style=\"text-align: right;\">\n",
       "      <th></th>\n",
       "      <th>CustomerId</th>\n",
       "      <th>Surname</th>\n",
       "      <th>CreditScore</th>\n",
       "      <th>Geography</th>\n",
       "      <th>Gender</th>\n",
       "      <th>Age</th>\n",
       "      <th>Tenure</th>\n",
       "      <th>Balance</th>\n",
       "      <th>NumOfProducts</th>\n",
       "      <th>HasCrCard</th>\n",
       "      <th>IsActiveMember</th>\n",
       "      <th>EstimatedSalary</th>\n",
       "      <th>Exited</th>\n",
       "      <th>z-score</th>\n",
       "      <th>GenderBinary</th>\n",
       "      <th>BalanceBinary</th>\n",
       "    </tr>\n",
       "  </thead>\n",
       "  <tbody>\n",
       "    <tr>\n",
       "      <th>0</th>\n",
       "      <td>15634602</td>\n",
       "      <td>Hargrave</td>\n",
       "      <td>619</td>\n",
       "      <td>France</td>\n",
       "      <td>Female</td>\n",
       "      <td>42</td>\n",
       "      <td>2</td>\n",
       "      <td>0.00</td>\n",
       "      <td>1</td>\n",
       "      <td>1</td>\n",
       "      <td>1</td>\n",
       "      <td>101348.88</td>\n",
       "      <td>1</td>\n",
       "      <td>0.021886</td>\n",
       "      <td>0</td>\n",
       "      <td>0</td>\n",
       "    </tr>\n",
       "    <tr>\n",
       "      <th>1</th>\n",
       "      <td>15647311</td>\n",
       "      <td>Hill</td>\n",
       "      <td>608</td>\n",
       "      <td>Spain</td>\n",
       "      <td>Female</td>\n",
       "      <td>41</td>\n",
       "      <td>1</td>\n",
       "      <td>83807.86</td>\n",
       "      <td>1</td>\n",
       "      <td>0</td>\n",
       "      <td>1</td>\n",
       "      <td>112542.58</td>\n",
       "      <td>0</td>\n",
       "      <td>0.216534</td>\n",
       "      <td>0</td>\n",
       "      <td>1</td>\n",
       "    </tr>\n",
       "    <tr>\n",
       "      <th>2</th>\n",
       "      <td>15619304</td>\n",
       "      <td>Onio</td>\n",
       "      <td>502</td>\n",
       "      <td>France</td>\n",
       "      <td>Female</td>\n",
       "      <td>42</td>\n",
       "      <td>8</td>\n",
       "      <td>159660.80</td>\n",
       "      <td>3</td>\n",
       "      <td>1</td>\n",
       "      <td>0</td>\n",
       "      <td>113931.57</td>\n",
       "      <td>1</td>\n",
       "      <td>0.240687</td>\n",
       "      <td>0</td>\n",
       "      <td>1</td>\n",
       "    </tr>\n",
       "    <tr>\n",
       "      <th>3</th>\n",
       "      <td>15701354</td>\n",
       "      <td>Boni</td>\n",
       "      <td>699</td>\n",
       "      <td>France</td>\n",
       "      <td>Female</td>\n",
       "      <td>39</td>\n",
       "      <td>1</td>\n",
       "      <td>0.00</td>\n",
       "      <td>2</td>\n",
       "      <td>0</td>\n",
       "      <td>0</td>\n",
       "      <td>93826.63</td>\n",
       "      <td>0</td>\n",
       "      <td>-0.108918</td>\n",
       "      <td>0</td>\n",
       "      <td>0</td>\n",
       "    </tr>\n",
       "    <tr>\n",
       "      <th>4</th>\n",
       "      <td>15737888</td>\n",
       "      <td>Mitchell</td>\n",
       "      <td>850</td>\n",
       "      <td>Spain</td>\n",
       "      <td>Female</td>\n",
       "      <td>43</td>\n",
       "      <td>2</td>\n",
       "      <td>125510.82</td>\n",
       "      <td>1</td>\n",
       "      <td>1</td>\n",
       "      <td>1</td>\n",
       "      <td>79084.10</td>\n",
       "      <td>0</td>\n",
       "      <td>-0.365276</td>\n",
       "      <td>0</td>\n",
       "      <td>1</td>\n",
       "    </tr>\n",
       "    <tr>\n",
       "      <th>...</th>\n",
       "      <td>...</td>\n",
       "      <td>...</td>\n",
       "      <td>...</td>\n",
       "      <td>...</td>\n",
       "      <td>...</td>\n",
       "      <td>...</td>\n",
       "      <td>...</td>\n",
       "      <td>...</td>\n",
       "      <td>...</td>\n",
       "      <td>...</td>\n",
       "      <td>...</td>\n",
       "      <td>...</td>\n",
       "      <td>...</td>\n",
       "      <td>...</td>\n",
       "      <td>...</td>\n",
       "      <td>...</td>\n",
       "    </tr>\n",
       "    <tr>\n",
       "      <th>9995</th>\n",
       "      <td>15606229</td>\n",
       "      <td>Obijiaku</td>\n",
       "      <td>771</td>\n",
       "      <td>France</td>\n",
       "      <td>Male</td>\n",
       "      <td>39</td>\n",
       "      <td>5</td>\n",
       "      <td>0.00</td>\n",
       "      <td>2</td>\n",
       "      <td>1</td>\n",
       "      <td>0</td>\n",
       "      <td>96270.64</td>\n",
       "      <td>0</td>\n",
       "      <td>-0.066419</td>\n",
       "      <td>1</td>\n",
       "      <td>0</td>\n",
       "    </tr>\n",
       "    <tr>\n",
       "      <th>9996</th>\n",
       "      <td>15569892</td>\n",
       "      <td>Johnstone</td>\n",
       "      <td>516</td>\n",
       "      <td>France</td>\n",
       "      <td>Male</td>\n",
       "      <td>35</td>\n",
       "      <td>10</td>\n",
       "      <td>57369.61</td>\n",
       "      <td>1</td>\n",
       "      <td>1</td>\n",
       "      <td>1</td>\n",
       "      <td>101699.77</td>\n",
       "      <td>0</td>\n",
       "      <td>0.027988</td>\n",
       "      <td>1</td>\n",
       "      <td>1</td>\n",
       "    </tr>\n",
       "    <tr>\n",
       "      <th>9997</th>\n",
       "      <td>15584532</td>\n",
       "      <td>Liu</td>\n",
       "      <td>709</td>\n",
       "      <td>France</td>\n",
       "      <td>Female</td>\n",
       "      <td>36</td>\n",
       "      <td>7</td>\n",
       "      <td>0.00</td>\n",
       "      <td>1</td>\n",
       "      <td>0</td>\n",
       "      <td>1</td>\n",
       "      <td>42085.58</td>\n",
       "      <td>1</td>\n",
       "      <td>-1.008643</td>\n",
       "      <td>0</td>\n",
       "      <td>0</td>\n",
       "    </tr>\n",
       "    <tr>\n",
       "      <th>9998</th>\n",
       "      <td>15682355</td>\n",
       "      <td>Sabbatini</td>\n",
       "      <td>772</td>\n",
       "      <td>Germany</td>\n",
       "      <td>Male</td>\n",
       "      <td>42</td>\n",
       "      <td>3</td>\n",
       "      <td>75075.31</td>\n",
       "      <td>2</td>\n",
       "      <td>1</td>\n",
       "      <td>0</td>\n",
       "      <td>92888.52</td>\n",
       "      <td>1</td>\n",
       "      <td>-0.125231</td>\n",
       "      <td>1</td>\n",
       "      <td>1</td>\n",
       "    </tr>\n",
       "    <tr>\n",
       "      <th>9999</th>\n",
       "      <td>15628319</td>\n",
       "      <td>Walker</td>\n",
       "      <td>792</td>\n",
       "      <td>France</td>\n",
       "      <td>Female</td>\n",
       "      <td>28</td>\n",
       "      <td>4</td>\n",
       "      <td>130142.79</td>\n",
       "      <td>1</td>\n",
       "      <td>1</td>\n",
       "      <td>0</td>\n",
       "      <td>38190.78</td>\n",
       "      <td>0</td>\n",
       "      <td>-1.076370</td>\n",
       "      <td>0</td>\n",
       "      <td>1</td>\n",
       "    </tr>\n",
       "  </tbody>\n",
       "</table>\n",
       "<p>10000 rows × 16 columns</p>\n",
       "</div>"
      ],
      "text/plain": [
       "      CustomerId    Surname  CreditScore Geography  Gender  Age  Tenure  \\\n",
       "0       15634602   Hargrave          619    France  Female   42       2   \n",
       "1       15647311       Hill          608     Spain  Female   41       1   \n",
       "2       15619304       Onio          502    France  Female   42       8   \n",
       "3       15701354       Boni          699    France  Female   39       1   \n",
       "4       15737888   Mitchell          850     Spain  Female   43       2   \n",
       "...          ...        ...          ...       ...     ...  ...     ...   \n",
       "9995    15606229   Obijiaku          771    France    Male   39       5   \n",
       "9996    15569892  Johnstone          516    France    Male   35      10   \n",
       "9997    15584532        Liu          709    France  Female   36       7   \n",
       "9998    15682355  Sabbatini          772   Germany    Male   42       3   \n",
       "9999    15628319     Walker          792    France  Female   28       4   \n",
       "\n",
       "        Balance  NumOfProducts  HasCrCard  IsActiveMember  EstimatedSalary  \\\n",
       "0          0.00              1          1               1        101348.88   \n",
       "1      83807.86              1          0               1        112542.58   \n",
       "2     159660.80              3          1               0        113931.57   \n",
       "3          0.00              2          0               0         93826.63   \n",
       "4     125510.82              1          1               1         79084.10   \n",
       "...         ...            ...        ...             ...              ...   \n",
       "9995       0.00              2          1               0         96270.64   \n",
       "9996   57369.61              1          1               1        101699.77   \n",
       "9997       0.00              1          0               1         42085.58   \n",
       "9998   75075.31              2          1               0         92888.52   \n",
       "9999  130142.79              1          1               0         38190.78   \n",
       "\n",
       "      Exited   z-score  GenderBinary  BalanceBinary  \n",
       "0          1  0.021886             0              0  \n",
       "1          0  0.216534             0              1  \n",
       "2          1  0.240687             0              1  \n",
       "3          0 -0.108918             0              0  \n",
       "4          0 -0.365276             0              1  \n",
       "...      ...       ...           ...            ...  \n",
       "9995       0 -0.066419             1              0  \n",
       "9996       0  0.027988             1              1  \n",
       "9997       1 -1.008643             0              0  \n",
       "9998       1 -0.125231             1              1  \n",
       "9999       0 -1.076370             0              1  \n",
       "\n",
       "[10000 rows x 16 columns]"
      ]
     },
     "execution_count": 132,
     "metadata": {},
     "output_type": "execute_result"
    }
   ],
   "source": [
    "churn['BalanceBinary'] = churn['Balance'].apply(lambda x: 1 if x > 0 else 0)\n",
    "churn"
   ]
  },
  {
   "cell_type": "markdown",
   "id": "199edd9b",
   "metadata": {},
   "source": [
    "H02: зависимость между наличием денег на счету и уходом от банка отсутствует  \n",
    "HA2: зависимость между наличием денег на счету и уходом от банка существует"
   ]
  },
  {
   "cell_type": "code",
   "execution_count": 133,
   "id": "4f9d3d97",
   "metadata": {},
   "outputs": [
    {
     "data": {
      "text/html": [
       "<div>\n",
       "<style scoped>\n",
       "    .dataframe tbody tr th:only-of-type {\n",
       "        vertical-align: middle;\n",
       "    }\n",
       "\n",
       "    .dataframe tbody tr th {\n",
       "        vertical-align: top;\n",
       "    }\n",
       "\n",
       "    .dataframe thead th {\n",
       "        text-align: right;\n",
       "    }\n",
       "</style>\n",
       "<table border=\"1\" class=\"dataframe\">\n",
       "  <thead>\n",
       "    <tr style=\"text-align: right;\">\n",
       "      <th>Exited</th>\n",
       "      <th>0</th>\n",
       "      <th>1</th>\n",
       "    </tr>\n",
       "    <tr>\n",
       "      <th>BalanceBinary</th>\n",
       "      <th></th>\n",
       "      <th></th>\n",
       "    </tr>\n",
       "  </thead>\n",
       "  <tbody>\n",
       "    <tr>\n",
       "      <th>0</th>\n",
       "      <td>3117</td>\n",
       "      <td>500</td>\n",
       "    </tr>\n",
       "    <tr>\n",
       "      <th>1</th>\n",
       "      <td>4846</td>\n",
       "      <td>1537</td>\n",
       "    </tr>\n",
       "  </tbody>\n",
       "</table>\n",
       "</div>"
      ],
      "text/plain": [
       "Exited            0     1\n",
       "BalanceBinary            \n",
       "0              3117   500\n",
       "1              4846  1537"
      ]
     },
     "execution_count": 133,
     "metadata": {},
     "output_type": "execute_result"
    }
   ],
   "source": [
    "ct_o_2 = churn.groupby('BalanceBinary')['Exited'].value_counts().unstack()\n",
    "ct_o_2"
   ]
  },
  {
   "cell_type": "code",
   "execution_count": 134,
   "id": "2fade66d",
   "metadata": {},
   "outputs": [
    {
     "name": "stdout",
     "output_type": "stream",
     "text": [
      "10000\n"
     ]
    }
   ],
   "source": [
    "n_total_2 = ct_o_2.sum().sum()\n",
    "print(n_total_2)"
   ]
  },
  {
   "cell_type": "code",
   "execution_count": 135,
   "id": "dba90696",
   "metadata": {},
   "outputs": [
    {
     "name": "stdout",
     "output_type": "stream",
     "text": [
      "7963 2037\n"
     ]
    }
   ],
   "source": [
    "n_exited_0_2 = ct_o_2[0].sum()\n",
    "n_exited_1_2 = ct_o_2[1].sum()\n",
    "print(n_exited_0_2, n_exited_1_2)"
   ]
  },
  {
   "cell_type": "code",
   "execution_count": 136,
   "id": "4ffff8bd",
   "metadata": {},
   "outputs": [
    {
     "name": "stdout",
     "output_type": "stream",
     "text": [
      "0.7963 0.2037\n"
     ]
    }
   ],
   "source": [
    "p_exited_0_2 = n_exited_0_2 / n_total_2\n",
    "p_exited_1_2 = n_exited_1_2 / n_total_2\n",
    "print(p_exited_0_2, p_exited_1_2)"
   ]
  },
  {
   "cell_type": "code",
   "execution_count": 137,
   "id": "2f2ad0cb",
   "metadata": {},
   "outputs": [
    {
     "name": "stdout",
     "output_type": "stream",
     "text": [
      "3617 6383\n"
     ]
    }
   ],
   "source": [
    "n_balance = ct_o_2.iloc[0].sum()\n",
    "n_nobalance = ct_o_2.iloc[1].sum()\n",
    "print(n_balance, n_nobalance)"
   ]
  },
  {
   "cell_type": "code",
   "execution_count": 138,
   "id": "bd12aa19",
   "metadata": {},
   "outputs": [
    {
     "name": "stdout",
     "output_type": "stream",
     "text": [
      "2880.2171 736.7828999999999\n"
     ]
    }
   ],
   "source": [
    "f_e_exited_0_balance = n_balance * p_exited_0_2\n",
    "f_e_exited_1_balance = n_balance * p_exited_1_2\n",
    "print(f_e_exited_0_balance, f_e_exited_1_balance)"
   ]
  },
  {
   "cell_type": "code",
   "execution_count": 139,
   "id": "eaa9326e",
   "metadata": {},
   "outputs": [
    {
     "name": "stdout",
     "output_type": "stream",
     "text": [
      "5082.7829 1300.2170999999998\n"
     ]
    }
   ],
   "source": [
    "f_e_exited_0_nobalance = n_nobalance * p_exited_0_2\n",
    "f_e_exited_1_nobalance = n_nobalance * p_exited_1_2\n",
    "print(f_e_exited_0_nobalance, f_e_exited_1_nobalance)"
   ]
  },
  {
   "cell_type": "code",
   "execution_count": 140,
   "id": "a8964103",
   "metadata": {},
   "outputs": [
    {
     "name": "stdout",
     "output_type": "stream",
     "text": [
      "[[2880.2171  736.7829]\n",
      " [5082.7829 1300.2171]]\n"
     ]
    }
   ],
   "source": [
    "ct_e_2 = np.array([[f_e_exited_0_balance, f_e_exited_1_balance],\n",
    "                 [f_e_exited_0_nobalance, f_e_exited_1_nobalance]])\n",
    "print(ct_e_2)"
   ]
  },
  {
   "cell_type": "code",
   "execution_count": 141,
   "id": "3cbfff7a",
   "metadata": {},
   "outputs": [
    {
     "name": "stdout",
     "output_type": "stream",
     "text": [
      "149.71302056498092 6.63\n",
      "True\n"
     ]
    }
   ],
   "source": [
    "chi_square_2 = ((ct_o_2 - ct_e_2)**2 / ct_e_2).sum().sum()\n",
    "print(chi_square_2, critical_value)\n",
    "print(chi_square_2 > critical_value)"
   ]
  },
  {
   "cell_type": "markdown",
   "id": "7ae97d08",
   "metadata": {},
   "source": [
    "Нулевая гипотеза отвергнута, зависимость между переменными существует. "
   ]
  },
  {
   "cell_type": "code",
   "execution_count": 210,
   "id": "71696386",
   "metadata": {},
   "outputs": [
    {
     "name": "stdout",
     "output_type": "stream",
     "text": [
      "LinregressResult(slope=-32631.10836843744, intercept=126418.01131338297, rvalue=-0.30417973836054957, pvalue=4.297154279034854e-213, stderr=1022.0266892852176, intercept_stderr=1673.0673674325158)\n"
     ]
    }
   ],
   "source": [
    "import statsmodels.api as sm\n",
    "X = churn['NumOfProducts']\n",
    "y = churn['Balance']\n",
    "\n",
    "res = scipy.stats.linregress(X, y)\n",
    "print(res)"
   ]
  },
  {
   "cell_type": "code",
   "execution_count": 211,
   "id": "eb9f462e",
   "metadata": {},
   "outputs": [
    {
     "name": "stdout",
     "output_type": "stream",
     "text": [
      "0.0925253132290924\n"
     ]
    }
   ],
   "source": [
    "r_sq = res.rvalue ** 2\n",
    "print(r_sq)"
   ]
  },
  {
   "cell_type": "code",
   "execution_count": 212,
   "id": "32103a18",
   "metadata": {},
   "outputs": [
    {
     "data": {
      "image/png": "[encoded data removed]",
      "text/plain": [
       "<Figure size 432x288 with 1 Axes>"
      ]
     },
     "metadata": {
      "needs_background": "light"
     },
     "output_type": "display_data"
    }
   ],
   "source": [
    "plt.scatter(X, y, label = 'оригинальные данные')\n",
    "plt.plot(X, res.intercept + res.slope * X, 'r', label = 'линия регрессии')\n",
    "plt.legend()\n",
    "plt.show()"
   ]
  },
  {
   "cell_type": "markdown",
   "id": "7f6dd8b2",
   "metadata": {},
   "source": [
    "Коэффициент детерминации близок к 0 (мы можем объяснить с помощью нашего уравнения до 9% разброса данных), что означает низкую значимость модели, входная переменная плохо «объясняет» поведение выходной, т.е. линейная зависимость между ними отсутствует."
   ]
  },
  {
   "cell_type": "markdown",
   "id": "db05fe9f",
   "metadata": {},
   "source": [
    "H02: существует сильная зависимость между кредитным рейтингом клиента и уходом от банка  \n",
    "HA2: зависимость между кредитным рейтингом клиента и уходом от банка отсутствует"
   ]
  },
  {
   "cell_type": "code",
   "execution_count": 215,
   "id": "74f23dc4",
   "metadata": {},
   "outputs": [
    {
     "name": "stdout",
     "output_type": "stream",
     "text": [
      "645.3514972999509 651.8531960316463\n"
     ]
    }
   ],
   "source": [
    "exited_cr_score = churn[churn['Exited'] == 1]['CreditScore']\n",
    "not_exited_cr_score = churn[churn['Exited'] == 0]['CreditScore']\n",
    "mean_1 = exited_cr_score.mean()\n",
    "mean_2 = not_exited_cr_score.mean()\n",
    "print(mean_1,mean_2)"
   ]
  },
  {
   "cell_type": "code",
   "execution_count": 216,
   "id": "f482f9c8",
   "metadata": {},
   "outputs": [
    {
     "data": {
      "text/plain": [
       "Ttest_indResult(statistic=-2.634660543657579, pvalue=0.008464728991832877)"
      ]
     },
     "execution_count": 216,
     "metadata": {},
     "output_type": "execute_result"
    }
   ],
   "source": [
    "t = scipy.stats.ttest_ind(exited_cr_score, not_exited_cr_score, equal_var=False)\n",
    "t_critical = 12.7\n",
    "t"
   ]
  },
  {
   "cell_type": "markdown",
   "id": "f79610ed",
   "metadata": {},
   "source": [
    "Значение T-критерия больше критического, значит нулевую гипотезу отвергаем - сильная связь между кредитным рейтингом и уходом клиента от банка отсутствует."
   ]
  },
  {
   "cell_type": "code",
   "execution_count": 223,
   "id": "32cde84f",
   "metadata": {},
   "outputs": [
    {
     "name": "stdout",
     "output_type": "stream",
     "text": [
      "Optimization terminated successfully.\n",
      "         Current function value: 0.606106\n",
      "         Iterations 5\n",
      "                           Logit Regression Results                           \n",
      "==============================================================================\n",
      "Dep. Variable:              HasCrCard   No. Observations:                10000\n",
      "Model:                          Logit   Df Residuals:                     9998\n",
      "Method:                           MLE   Df Model:                            1\n",
      "Date:                Wed, 14 Dec 2022   Pseudo R-squ.:               4.190e-05\n",
      "Time:                        01:00:01   Log-Likelihood:                -6061.1\n",
      "converged:                       True   LL-Null:                       -6061.3\n",
      "Covariance Type:            nonrobust   LLR p-value:                    0.4761\n",
      "==============================================================================\n",
      "                 coef    std err          z      P>|z|      [0.025      0.975]\n",
      "------------------------------------------------------------------------------\n",
      "const          0.8816      0.025     35.799      0.000       0.833       0.930\n",
      "Exited        -0.0387      0.054     -0.714      0.475      -0.145       0.068\n",
      "==============================================================================\n"
     ]
    }
   ],
   "source": [
    "X = sm.add_constant(churn['Exited'])\n",
    "y = churn['HasCrCard']\n",
    "\n",
    "logit = sm.Logit(y, X)\n",
    "results = logit.fit()\n",
    "print(results.summary())"
   ]
  },
  {
   "cell_type": "code",
   "execution_count": 224,
   "id": "244cd6bc",
   "metadata": {},
   "outputs": [
    {
     "data": {
      "text/plain": [
       "2.4147602335456013"
      ]
     },
     "execution_count": 224,
     "metadata": {},
     "output_type": "execute_result"
    }
   ],
   "source": [
    "np.exp(0.8816)"
   ]
  },
  {
   "cell_type": "code",
   "execution_count": 225,
   "id": "cebd70b5",
   "metadata": {},
   "outputs": [
    {
     "data": {
      "text/plain": [
       "0.9620392776422207"
      ]
     },
     "execution_count": 225,
     "metadata": {},
     "output_type": "execute_result"
    }
   ],
   "source": [
    "np.exp(-0.0387)"
   ]
  },
  {
   "cell_type": "markdown",
   "id": "63bf9bce",
   "metadata": {},
   "source": [
    "Интерпретация результата логистической регрессии: если клиент имеет кредитную карту, то вероятность того, что он откажется от услуг банка значительно увеличивается по сравнению со сценарием, когда клиент не имеет кредитную карту."
   ]
  },
  {
   "cell_type": "code",
   "execution_count": 229,
   "id": "fd32a2c6",
   "metadata": {},
   "outputs": [
    {
     "name": "stdout",
     "output_type": "stream",
     "text": [
      "Optimization terminated successfully.\n",
      "         Current function value: 0.680400\n",
      "         Iterations 4\n",
      "                           Logit Regression Results                           \n",
      "==============================================================================\n",
      "Dep. Variable:         IsActiveMember   No. Observations:                10000\n",
      "Model:                          Logit   Df Residuals:                     9998\n",
      "Method:                           MLE   Df Model:                            1\n",
      "Date:                Wed, 14 Dec 2022   Pseudo R-squ.:                 0.01774\n",
      "Time:                        01:06:46   Log-Likelihood:                -6804.0\n",
      "converged:                       True   LL-Null:                       -6926.9\n",
      "Covariance Type:            nonrobust   LLR p-value:                 2.107e-55\n",
      "==============================================================================\n",
      "                 coef    std err          z      P>|z|      [0.025      0.975]\n",
      "------------------------------------------------------------------------------\n",
      "const          0.2191      0.023      9.719      0.000       0.175       0.263\n",
      "Exited        -0.7909      0.051    -15.402      0.000      -0.892      -0.690\n",
      "==============================================================================\n"
     ]
    }
   ],
   "source": [
    "X = sm.add_constant(churn['Exited'])\n",
    "y = churn['IsActiveMember']\n",
    "\n",
    "logit = sm.Logit(y, X)\n",
    "results = logit.fit()\n",
    "print(results.summary())"
   ]
  },
  {
   "cell_type": "code",
   "execution_count": 230,
   "id": "13422784",
   "metadata": {},
   "outputs": [
    {
     "data": {
      "text/plain": [
       "1.2449557660395638"
      ]
     },
     "execution_count": 230,
     "metadata": {},
     "output_type": "execute_result"
    }
   ],
   "source": [
    "np.exp(0.2191)"
   ]
  },
  {
   "cell_type": "code",
   "execution_count": 231,
   "id": "8b698676",
   "metadata": {},
   "outputs": [
    {
     "data": {
      "text/plain": [
       "0.453436518718614"
      ]
     },
     "execution_count": 231,
     "metadata": {},
     "output_type": "execute_result"
    }
   ],
   "source": [
    "np.exp(-0.7909)"
   ]
  },
  {
   "cell_type": "markdown",
   "id": "1d01c7a6",
   "metadata": {},
   "source": [
    "Интерпретация результата логистической регрессии: если клиент является активным пользователем услуг банка, то вероятность того, что он откажется от услуг банка увеличивается в 1.24 раза по сравнению со сценарием, когда клиент не является активным пользователем."
   ]
  },
  {
   "cell_type": "markdown",
   "id": "54326541",
   "metadata": {},
   "source": [
    "Таким образом мы видим, что существует связь между наличием денег на счетах клиентов банков и их отказом от услуг банка. Вероятно такая связь может существовать по причине неудобства хранения денег на счетах банка, также такая связь может характеризовать лишь то, что от банка уходят только те клиенты, у которых не было денег на счету, или наоборот. В то же время было выявлено:   \n",
    "1/ между наличием кредитной карты и отказом от услуг банка связь отсутствует;  \n",
    "2/ линейная зависимость между количеством банковских продуктов и балансом на счету клиента отсутствует;  \n",
    "3/ зависимость между кредитным рейтингом клиента и уходом от банка отсутствует;  \n",
    "4/ если клиент имеет кредитную карту, то вероятность отказа от услуг банка значительно увеличивается;  \n",
    "5/ если клиент является активным пользователем услуг банка, то вероятность отказа от услуг банка увеличивается в 1.24 раза.  \n",
    "  \n",
    "Рекомендуется провести оценку удобства хранения денег на счетах с точки зрения клиентов банка, провести UX-анализ приложения и сайта банка, исследовать удобства снятия денег в банкоматах, переводов между счетами и между банками, размеры комиссий на операции и срок обработки платежей, условия кредитования для владельцев кредитных карт и прочие признаки удобства использования услуг банка. "
   ]
  },
  {
   "cell_type": "markdown",
   "id": "ce112db2",
   "metadata": {},
   "source": [
    "**Подведем итоги исследования обзором решенных задач:**  \n",
    "- определить, какие параметры влияют на отказ пользователей от услуг банка;  **параметр определен**  \n",
    "- сформировать рекомендации для удержания пользователей банка. **рекомендации сформированы**"
   ]
  },
  {
   "cell_type": "code",
   "execution_count": null,
   "id": "1f1253f8",
   "metadata": {},
   "outputs": [],
   "source": []
  }
 ],
 "metadata": {
  "kernelspec": {
   "display_name": "Python 3 (ipykernel)",
   "language": "python",
   "name": "python3"
  },
  "language_info": {
   "codemirror_mode": {
    "name": "ipython",
    "version": 3
   },
   "file_extension": ".py",
   "mimetype": "text/x-python",
   "name": "python",
   "nbconvert_exporter": "python",
   "pygments_lexer": "ipython3",
   "version": "3.9.12"
  }
 },
 "nbformat": 4,
 "nbformat_minor": 5
}
